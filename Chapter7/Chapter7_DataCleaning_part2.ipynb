{
 "cells": [
  {
   "cell_type": "code",
   "execution_count": 1,
   "metadata": {},
   "outputs": [
    {
     "data": {
      "text/plain": [
       "' Data Transformation '"
      ]
     },
     "execution_count": 1,
     "metadata": {},
     "output_type": "execute_result"
    }
   ],
   "source": [
    "\"\"\" Data Transformation \"\"\""
   ]
  },
  {
   "cell_type": "code",
   "execution_count": 2,
   "metadata": {},
   "outputs": [],
   "source": [
    "import pandas as pd"
   ]
  },
  {
   "cell_type": "code",
   "execution_count": 3,
   "metadata": {},
   "outputs": [],
   "source": [
    "import numpy as np"
   ]
  },
  {
   "cell_type": "code",
   "execution_count": 4,
   "metadata": {},
   "outputs": [
    {
     "data": {
      "text/plain": [
       "' Retirer les duplicats '"
      ]
     },
     "execution_count": 4,
     "metadata": {},
     "output_type": "execute_result"
    }
   ],
   "source": [
    "\"\"\" Retirer les duplicats \"\"\""
   ]
  },
  {
   "cell_type": "code",
   "execution_count": 5,
   "metadata": {},
   "outputs": [],
   "source": [
    "data = pd.DataFrame({'k1':['one','two'] * 3 + ['two'],\n",
    "                     'k2' : [1,1,2,3,3,4,4]})"
   ]
  },
  {
   "cell_type": "code",
   "execution_count": 6,
   "metadata": {},
   "outputs": [
    {
     "data": {
      "text/html": [
       "<div>\n",
       "<style>\n",
       "    .dataframe thead tr:only-child th {\n",
       "        text-align: right;\n",
       "    }\n",
       "\n",
       "    .dataframe thead th {\n",
       "        text-align: left;\n",
       "    }\n",
       "\n",
       "    .dataframe tbody tr th {\n",
       "        vertical-align: top;\n",
       "    }\n",
       "</style>\n",
       "<table border=\"1\" class=\"dataframe\">\n",
       "  <thead>\n",
       "    <tr style=\"text-align: right;\">\n",
       "      <th></th>\n",
       "      <th>k1</th>\n",
       "      <th>k2</th>\n",
       "    </tr>\n",
       "  </thead>\n",
       "  <tbody>\n",
       "    <tr>\n",
       "      <th>0</th>\n",
       "      <td>one</td>\n",
       "      <td>1</td>\n",
       "    </tr>\n",
       "    <tr>\n",
       "      <th>1</th>\n",
       "      <td>two</td>\n",
       "      <td>1</td>\n",
       "    </tr>\n",
       "    <tr>\n",
       "      <th>2</th>\n",
       "      <td>one</td>\n",
       "      <td>2</td>\n",
       "    </tr>\n",
       "    <tr>\n",
       "      <th>3</th>\n",
       "      <td>two</td>\n",
       "      <td>3</td>\n",
       "    </tr>\n",
       "    <tr>\n",
       "      <th>4</th>\n",
       "      <td>one</td>\n",
       "      <td>3</td>\n",
       "    </tr>\n",
       "    <tr>\n",
       "      <th>5</th>\n",
       "      <td>two</td>\n",
       "      <td>4</td>\n",
       "    </tr>\n",
       "    <tr>\n",
       "      <th>6</th>\n",
       "      <td>two</td>\n",
       "      <td>4</td>\n",
       "    </tr>\n",
       "  </tbody>\n",
       "</table>\n",
       "</div>"
      ],
      "text/plain": [
       "    k1  k2\n",
       "0  one   1\n",
       "1  two   1\n",
       "2  one   2\n",
       "3  two   3\n",
       "4  one   3\n",
       "5  two   4\n",
       "6  two   4"
      ]
     },
     "execution_count": 6,
     "metadata": {},
     "output_type": "execute_result"
    }
   ],
   "source": [
    "data"
   ]
  },
  {
   "cell_type": "code",
   "execution_count": 7,
   "metadata": {},
   "outputs": [
    {
     "data": {
      "text/plain": [
       "0    False\n",
       "1    False\n",
       "2    False\n",
       "3    False\n",
       "4    False\n",
       "5    False\n",
       "6     True\n",
       "dtype: bool"
      ]
     },
     "execution_count": 7,
     "metadata": {},
     "output_type": "execute_result"
    }
   ],
   "source": [
    "#retourner un Series désignant quelle ligne est un duplicat\n",
    "data.duplicated()"
   ]
  },
  {
   "cell_type": "code",
   "execution_count": 8,
   "metadata": {},
   "outputs": [
    {
     "data": {
      "text/html": [
       "<div>\n",
       "<style>\n",
       "    .dataframe thead tr:only-child th {\n",
       "        text-align: right;\n",
       "    }\n",
       "\n",
       "    .dataframe thead th {\n",
       "        text-align: left;\n",
       "    }\n",
       "\n",
       "    .dataframe tbody tr th {\n",
       "        vertical-align: top;\n",
       "    }\n",
       "</style>\n",
       "<table border=\"1\" class=\"dataframe\">\n",
       "  <thead>\n",
       "    <tr style=\"text-align: right;\">\n",
       "      <th></th>\n",
       "      <th>k1</th>\n",
       "      <th>k2</th>\n",
       "    </tr>\n",
       "  </thead>\n",
       "  <tbody>\n",
       "    <tr>\n",
       "      <th>0</th>\n",
       "      <td>one</td>\n",
       "      <td>1</td>\n",
       "    </tr>\n",
       "    <tr>\n",
       "      <th>1</th>\n",
       "      <td>two</td>\n",
       "      <td>1</td>\n",
       "    </tr>\n",
       "    <tr>\n",
       "      <th>2</th>\n",
       "      <td>one</td>\n",
       "      <td>2</td>\n",
       "    </tr>\n",
       "    <tr>\n",
       "      <th>3</th>\n",
       "      <td>two</td>\n",
       "      <td>3</td>\n",
       "    </tr>\n",
       "    <tr>\n",
       "      <th>4</th>\n",
       "      <td>one</td>\n",
       "      <td>3</td>\n",
       "    </tr>\n",
       "    <tr>\n",
       "      <th>5</th>\n",
       "      <td>two</td>\n",
       "      <td>4</td>\n",
       "    </tr>\n",
       "  </tbody>\n",
       "</table>\n",
       "</div>"
      ],
      "text/plain": [
       "    k1  k2\n",
       "0  one   1\n",
       "1  two   1\n",
       "2  one   2\n",
       "3  two   3\n",
       "4  one   3\n",
       "5  two   4"
      ]
     },
     "execution_count": 8,
     "metadata": {},
     "output_type": "execute_result"
    }
   ],
   "source": [
    "#retourner un dataframe sans les duplicats\n",
    "data.drop_duplicates()"
   ]
  },
  {
   "cell_type": "code",
   "execution_count": 9,
   "metadata": {},
   "outputs": [],
   "source": [
    "data['v1'] = range(7)"
   ]
  },
  {
   "cell_type": "code",
   "execution_count": 10,
   "metadata": {},
   "outputs": [
    {
     "data": {
      "text/html": [
       "<div>\n",
       "<style>\n",
       "    .dataframe thead tr:only-child th {\n",
       "        text-align: right;\n",
       "    }\n",
       "\n",
       "    .dataframe thead th {\n",
       "        text-align: left;\n",
       "    }\n",
       "\n",
       "    .dataframe tbody tr th {\n",
       "        vertical-align: top;\n",
       "    }\n",
       "</style>\n",
       "<table border=\"1\" class=\"dataframe\">\n",
       "  <thead>\n",
       "    <tr style=\"text-align: right;\">\n",
       "      <th></th>\n",
       "      <th>k1</th>\n",
       "      <th>k2</th>\n",
       "      <th>v1</th>\n",
       "    </tr>\n",
       "  </thead>\n",
       "  <tbody>\n",
       "    <tr>\n",
       "      <th>0</th>\n",
       "      <td>one</td>\n",
       "      <td>1</td>\n",
       "      <td>0</td>\n",
       "    </tr>\n",
       "    <tr>\n",
       "      <th>1</th>\n",
       "      <td>two</td>\n",
       "      <td>1</td>\n",
       "      <td>1</td>\n",
       "    </tr>\n",
       "    <tr>\n",
       "      <th>2</th>\n",
       "      <td>one</td>\n",
       "      <td>2</td>\n",
       "      <td>2</td>\n",
       "    </tr>\n",
       "    <tr>\n",
       "      <th>3</th>\n",
       "      <td>two</td>\n",
       "      <td>3</td>\n",
       "      <td>3</td>\n",
       "    </tr>\n",
       "    <tr>\n",
       "      <th>4</th>\n",
       "      <td>one</td>\n",
       "      <td>3</td>\n",
       "      <td>4</td>\n",
       "    </tr>\n",
       "    <tr>\n",
       "      <th>5</th>\n",
       "      <td>two</td>\n",
       "      <td>4</td>\n",
       "      <td>5</td>\n",
       "    </tr>\n",
       "    <tr>\n",
       "      <th>6</th>\n",
       "      <td>two</td>\n",
       "      <td>4</td>\n",
       "      <td>6</td>\n",
       "    </tr>\n",
       "  </tbody>\n",
       "</table>\n",
       "</div>"
      ],
      "text/plain": [
       "    k1  k2  v1\n",
       "0  one   1   0\n",
       "1  two   1   1\n",
       "2  one   2   2\n",
       "3  two   3   3\n",
       "4  one   3   4\n",
       "5  two   4   5\n",
       "6  two   4   6"
      ]
     },
     "execution_count": 10,
     "metadata": {},
     "output_type": "execute_result"
    }
   ],
   "source": [
    "data"
   ]
  },
  {
   "cell_type": "raw",
   "metadata": {},
   "source": []
  },
  {
   "cell_type": "code",
   "execution_count": 11,
   "metadata": {},
   "outputs": [
    {
     "data": {
      "text/html": [
       "<div>\n",
       "<style>\n",
       "    .dataframe thead tr:only-child th {\n",
       "        text-align: right;\n",
       "    }\n",
       "\n",
       "    .dataframe thead th {\n",
       "        text-align: left;\n",
       "    }\n",
       "\n",
       "    .dataframe tbody tr th {\n",
       "        vertical-align: top;\n",
       "    }\n",
       "</style>\n",
       "<table border=\"1\" class=\"dataframe\">\n",
       "  <thead>\n",
       "    <tr style=\"text-align: right;\">\n",
       "      <th></th>\n",
       "      <th>k1</th>\n",
       "      <th>k2</th>\n",
       "      <th>v1</th>\n",
       "    </tr>\n",
       "  </thead>\n",
       "  <tbody>\n",
       "    <tr>\n",
       "      <th>0</th>\n",
       "      <td>one</td>\n",
       "      <td>1</td>\n",
       "      <td>0</td>\n",
       "    </tr>\n",
       "    <tr>\n",
       "      <th>1</th>\n",
       "      <td>two</td>\n",
       "      <td>1</td>\n",
       "      <td>1</td>\n",
       "    </tr>\n",
       "  </tbody>\n",
       "</table>\n",
       "</div>"
      ],
      "text/plain": [
       "    k1  k2  v1\n",
       "0  one   1   0\n",
       "1  two   1   1"
      ]
     },
     "execution_count": 11,
     "metadata": {},
     "output_type": "execute_result"
    }
   ],
   "source": [
    "#retirer les duplicats en se basant uniquement sur la colonne 'k1'\n",
    "data.drop_duplicates(['k1'])"
   ]
  },
  {
   "cell_type": "code",
   "execution_count": 12,
   "metadata": {},
   "outputs": [
    {
     "data": {
      "text/plain": [
       "' Transforming Data Using a Function or Mapping '"
      ]
     },
     "execution_count": 12,
     "metadata": {},
     "output_type": "execute_result"
    }
   ],
   "source": [
    "\"\"\" Transforming Data Using a Function or Mapping \"\"\""
   ]
  },
  {
   "cell_type": "code",
   "execution_count": 13,
   "metadata": {},
   "outputs": [],
   "source": [
    "# Ajouter des elements avec map()\n",
    "data = pd.DataFrame({'food':['bacon','pulled pork','bacon','Pastrami','corned beef','Bacon','pastrami','honey ham','nova lox'],'ounces':[4,3,12,6,7.5,8,3,5,6]})"
   ]
  },
  {
   "cell_type": "code",
   "execution_count": 14,
   "metadata": {},
   "outputs": [
    {
     "data": {
      "text/html": [
       "<div>\n",
       "<style>\n",
       "    .dataframe thead tr:only-child th {\n",
       "        text-align: right;\n",
       "    }\n",
       "\n",
       "    .dataframe thead th {\n",
       "        text-align: left;\n",
       "    }\n",
       "\n",
       "    .dataframe tbody tr th {\n",
       "        vertical-align: top;\n",
       "    }\n",
       "</style>\n",
       "<table border=\"1\" class=\"dataframe\">\n",
       "  <thead>\n",
       "    <tr style=\"text-align: right;\">\n",
       "      <th></th>\n",
       "      <th>food</th>\n",
       "      <th>ounces</th>\n",
       "    </tr>\n",
       "  </thead>\n",
       "  <tbody>\n",
       "    <tr>\n",
       "      <th>0</th>\n",
       "      <td>bacon</td>\n",
       "      <td>4.0</td>\n",
       "    </tr>\n",
       "    <tr>\n",
       "      <th>1</th>\n",
       "      <td>pulled pork</td>\n",
       "      <td>3.0</td>\n",
       "    </tr>\n",
       "    <tr>\n",
       "      <th>2</th>\n",
       "      <td>bacon</td>\n",
       "      <td>12.0</td>\n",
       "    </tr>\n",
       "    <tr>\n",
       "      <th>3</th>\n",
       "      <td>Pastrami</td>\n",
       "      <td>6.0</td>\n",
       "    </tr>\n",
       "    <tr>\n",
       "      <th>4</th>\n",
       "      <td>corned beef</td>\n",
       "      <td>7.5</td>\n",
       "    </tr>\n",
       "    <tr>\n",
       "      <th>5</th>\n",
       "      <td>Bacon</td>\n",
       "      <td>8.0</td>\n",
       "    </tr>\n",
       "    <tr>\n",
       "      <th>6</th>\n",
       "      <td>pastrami</td>\n",
       "      <td>3.0</td>\n",
       "    </tr>\n",
       "    <tr>\n",
       "      <th>7</th>\n",
       "      <td>honey ham</td>\n",
       "      <td>5.0</td>\n",
       "    </tr>\n",
       "    <tr>\n",
       "      <th>8</th>\n",
       "      <td>nova lox</td>\n",
       "      <td>6.0</td>\n",
       "    </tr>\n",
       "  </tbody>\n",
       "</table>\n",
       "</div>"
      ],
      "text/plain": [
       "          food  ounces\n",
       "0        bacon     4.0\n",
       "1  pulled pork     3.0\n",
       "2        bacon    12.0\n",
       "3     Pastrami     6.0\n",
       "4  corned beef     7.5\n",
       "5        Bacon     8.0\n",
       "6     pastrami     3.0\n",
       "7    honey ham     5.0\n",
       "8     nova lox     6.0"
      ]
     },
     "execution_count": 14,
     "metadata": {},
     "output_type": "execute_result"
    }
   ],
   "source": [
    "data"
   ]
  },
  {
   "cell_type": "code",
   "execution_count": 15,
   "metadata": {},
   "outputs": [],
   "source": [
    "# ajouter une colonne pour le type de l'animal\n",
    "meat_to_animal ={'bacon':'pig','pulled pork':'pig','pastrami':'pig','corned beef':'cow','honey ham':'pig','nova lox':'salmon'}"
   ]
  },
  {
   "cell_type": "code",
   "execution_count": 16,
   "metadata": {},
   "outputs": [],
   "source": [
    "#generer une Series depuis le dataframe avec tous les noms en minuscule\n",
    "lowercased = data['food'].str.lower()"
   ]
  },
  {
   "cell_type": "code",
   "execution_count": 17,
   "metadata": {},
   "outputs": [
    {
     "data": {
      "text/plain": [
       "0          bacon\n",
       "1    pulled pork\n",
       "2          bacon\n",
       "3       pastrami\n",
       "4    corned beef\n",
       "5          bacon\n",
       "6       pastrami\n",
       "7      honey ham\n",
       "8       nova lox\n",
       "Name: food, dtype: object"
      ]
     },
     "execution_count": 17,
     "metadata": {},
     "output_type": "execute_result"
    }
   ],
   "source": [
    "lowercased"
   ]
  },
  {
   "cell_type": "code",
   "execution_count": 18,
   "metadata": {},
   "outputs": [],
   "source": [
    "#creer un dataframe combiné .map()\n",
    "data['animal'] = lowercased.map(meat_to_animal)\n"
   ]
  },
  {
   "cell_type": "code",
   "execution_count": 19,
   "metadata": {},
   "outputs": [
    {
     "data": {
      "text/html": [
       "<div>\n",
       "<style>\n",
       "    .dataframe thead tr:only-child th {\n",
       "        text-align: right;\n",
       "    }\n",
       "\n",
       "    .dataframe thead th {\n",
       "        text-align: left;\n",
       "    }\n",
       "\n",
       "    .dataframe tbody tr th {\n",
       "        vertical-align: top;\n",
       "    }\n",
       "</style>\n",
       "<table border=\"1\" class=\"dataframe\">\n",
       "  <thead>\n",
       "    <tr style=\"text-align: right;\">\n",
       "      <th></th>\n",
       "      <th>food</th>\n",
       "      <th>ounces</th>\n",
       "      <th>animal</th>\n",
       "    </tr>\n",
       "  </thead>\n",
       "  <tbody>\n",
       "    <tr>\n",
       "      <th>0</th>\n",
       "      <td>bacon</td>\n",
       "      <td>4.0</td>\n",
       "      <td>pig</td>\n",
       "    </tr>\n",
       "    <tr>\n",
       "      <th>1</th>\n",
       "      <td>pulled pork</td>\n",
       "      <td>3.0</td>\n",
       "      <td>pig</td>\n",
       "    </tr>\n",
       "    <tr>\n",
       "      <th>2</th>\n",
       "      <td>bacon</td>\n",
       "      <td>12.0</td>\n",
       "      <td>pig</td>\n",
       "    </tr>\n",
       "    <tr>\n",
       "      <th>3</th>\n",
       "      <td>Pastrami</td>\n",
       "      <td>6.0</td>\n",
       "      <td>pig</td>\n",
       "    </tr>\n",
       "    <tr>\n",
       "      <th>4</th>\n",
       "      <td>corned beef</td>\n",
       "      <td>7.5</td>\n",
       "      <td>cow</td>\n",
       "    </tr>\n",
       "    <tr>\n",
       "      <th>5</th>\n",
       "      <td>Bacon</td>\n",
       "      <td>8.0</td>\n",
       "      <td>pig</td>\n",
       "    </tr>\n",
       "    <tr>\n",
       "      <th>6</th>\n",
       "      <td>pastrami</td>\n",
       "      <td>3.0</td>\n",
       "      <td>pig</td>\n",
       "    </tr>\n",
       "    <tr>\n",
       "      <th>7</th>\n",
       "      <td>honey ham</td>\n",
       "      <td>5.0</td>\n",
       "      <td>pig</td>\n",
       "    </tr>\n",
       "    <tr>\n",
       "      <th>8</th>\n",
       "      <td>nova lox</td>\n",
       "      <td>6.0</td>\n",
       "      <td>salmon</td>\n",
       "    </tr>\n",
       "  </tbody>\n",
       "</table>\n",
       "</div>"
      ],
      "text/plain": [
       "          food  ounces  animal\n",
       "0        bacon     4.0     pig\n",
       "1  pulled pork     3.0     pig\n",
       "2        bacon    12.0     pig\n",
       "3     Pastrami     6.0     pig\n",
       "4  corned beef     7.5     cow\n",
       "5        Bacon     8.0     pig\n",
       "6     pastrami     3.0     pig\n",
       "7    honey ham     5.0     pig\n",
       "8     nova lox     6.0  salmon"
      ]
     },
     "execution_count": 19,
     "metadata": {},
     "output_type": "execute_result"
    }
   ],
   "source": [
    "data"
   ]
  },
  {
   "cell_type": "code",
   "execution_count": 20,
   "metadata": {},
   "outputs": [
    {
     "data": {
      "text/plain": [
       "0       pig\n",
       "1       pig\n",
       "2       pig\n",
       "3       pig\n",
       "4       cow\n",
       "5       pig\n",
       "6       pig\n",
       "7       pig\n",
       "8    salmon\n",
       "Name: food, dtype: object"
      ]
     },
     "execution_count": 20,
     "metadata": {},
     "output_type": "execute_result"
    }
   ],
   "source": [
    "data['food'].map(lambda x: meat_to_animal[x.lower()])"
   ]
  },
  {
   "cell_type": "code",
   "execution_count": 21,
   "metadata": {},
   "outputs": [
    {
     "data": {
      "text/plain": [
       "' Remplacer des valeurs'"
      ]
     },
     "execution_count": 21,
     "metadata": {},
     "output_type": "execute_result"
    }
   ],
   "source": [
    "\"\"\" Remplacer des valeurs\"\"\""
   ]
  },
  {
   "cell_type": "code",
   "execution_count": 22,
   "metadata": {},
   "outputs": [],
   "source": [
    "data = pd.Series([1.,-999.,2.,-999.,-1000.,3.])"
   ]
  },
  {
   "cell_type": "code",
   "execution_count": 23,
   "metadata": {},
   "outputs": [
    {
     "data": {
      "text/plain": [
       "0       1.0\n",
       "1    -999.0\n",
       "2       2.0\n",
       "3    -999.0\n",
       "4   -1000.0\n",
       "5       3.0\n",
       "dtype: float64"
      ]
     },
     "execution_count": 23,
     "metadata": {},
     "output_type": "execute_result"
    }
   ],
   "source": [
    "data"
   ]
  },
  {
   "cell_type": "code",
   "execution_count": 24,
   "metadata": {},
   "outputs": [
    {
     "data": {
      "text/plain": [
       "0       1.0\n",
       "1       NaN\n",
       "2       2.0\n",
       "3       NaN\n",
       "4   -1000.0\n",
       "5       3.0\n",
       "dtype: float64"
      ]
     },
     "execution_count": 24,
     "metadata": {},
     "output_type": "execute_result"
    }
   ],
   "source": [
    "#remplacer une donnée cible\n",
    "data.replace(-999,np.nan)"
   ]
  },
  {
   "cell_type": "code",
   "execution_count": 25,
   "metadata": {},
   "outputs": [
    {
     "data": {
      "text/plain": [
       "0    1.0\n",
       "1    NaN\n",
       "2    2.0\n",
       "3    NaN\n",
       "4    NaN\n",
       "5    3.0\n",
       "dtype: float64"
      ]
     },
     "execution_count": 25,
     "metadata": {},
     "output_type": "execute_result"
    }
   ],
   "source": [
    "# remplacer plusieurs valeurs cibles\n",
    "data.replace([-999.,-1000],np.nan)"
   ]
  },
  {
   "cell_type": "code",
   "execution_count": 26,
   "metadata": {},
   "outputs": [
    {
     "data": {
      "text/plain": [
       "0    1.0\n",
       "1    NaN\n",
       "2    2.0\n",
       "3    NaN\n",
       "4    0.0\n",
       "5    3.0\n",
       "dtype: float64"
      ]
     },
     "execution_count": 26,
     "metadata": {},
     "output_type": "execute_result"
    }
   ],
   "source": [
    "# Faire une correnspondance de remplacement\n",
    "data.replace([-999,-1000],[np.nan,0])"
   ]
  },
  {
   "cell_type": "code",
   "execution_count": 27,
   "metadata": {},
   "outputs": [
    {
     "data": {
      "text/plain": [
       "0    1.0\n",
       "1    NaN\n",
       "2    2.0\n",
       "3    NaN\n",
       "4    0.0\n",
       "5    3.0\n",
       "dtype: float64"
      ]
     },
     "execution_count": 27,
     "metadata": {},
     "output_type": "execute_result"
    }
   ],
   "source": [
    "#remplacement à travers un dict\n",
    "data.replace({-999 : np.nan, -1000:0})"
   ]
  },
  {
   "cell_type": "code",
   "execution_count": 28,
   "metadata": {},
   "outputs": [
    {
     "data": {
      "text/plain": [
       "\" Renommer l'index des axes \""
      ]
     },
     "execution_count": 28,
     "metadata": {},
     "output_type": "execute_result"
    }
   ],
   "source": [
    "\"\"\" Renommer l'index des axes \"\"\""
   ]
  },
  {
   "cell_type": "code",
   "execution_count": 29,
   "metadata": {},
   "outputs": [],
   "source": [
    "data = pd.DataFrame(np.arange(12).reshape((3,4)), index=['Ohio','Colorado','New York'],columns=['one','two','three','four'])"
   ]
  },
  {
   "cell_type": "code",
   "execution_count": 30,
   "metadata": {},
   "outputs": [
    {
     "data": {
      "text/html": [
       "<div>\n",
       "<style>\n",
       "    .dataframe thead tr:only-child th {\n",
       "        text-align: right;\n",
       "    }\n",
       "\n",
       "    .dataframe thead th {\n",
       "        text-align: left;\n",
       "    }\n",
       "\n",
       "    .dataframe tbody tr th {\n",
       "        vertical-align: top;\n",
       "    }\n",
       "</style>\n",
       "<table border=\"1\" class=\"dataframe\">\n",
       "  <thead>\n",
       "    <tr style=\"text-align: right;\">\n",
       "      <th></th>\n",
       "      <th>one</th>\n",
       "      <th>two</th>\n",
       "      <th>three</th>\n",
       "      <th>four</th>\n",
       "    </tr>\n",
       "  </thead>\n",
       "  <tbody>\n",
       "    <tr>\n",
       "      <th>Ohio</th>\n",
       "      <td>0</td>\n",
       "      <td>1</td>\n",
       "      <td>2</td>\n",
       "      <td>3</td>\n",
       "    </tr>\n",
       "    <tr>\n",
       "      <th>Colorado</th>\n",
       "      <td>4</td>\n",
       "      <td>5</td>\n",
       "      <td>6</td>\n",
       "      <td>7</td>\n",
       "    </tr>\n",
       "    <tr>\n",
       "      <th>New York</th>\n",
       "      <td>8</td>\n",
       "      <td>9</td>\n",
       "      <td>10</td>\n",
       "      <td>11</td>\n",
       "    </tr>\n",
       "  </tbody>\n",
       "</table>\n",
       "</div>"
      ],
      "text/plain": [
       "          one  two  three  four\n",
       "Ohio        0    1      2     3\n",
       "Colorado    4    5      6     7\n",
       "New York    8    9     10    11"
      ]
     },
     "execution_count": 30,
     "metadata": {},
     "output_type": "execute_result"
    }
   ],
   "source": [
    "data"
   ]
  },
  {
   "cell_type": "code",
   "execution_count": 31,
   "metadata": {},
   "outputs": [],
   "source": [
    "#transformer avec .map()\n",
    "transform = lambda x: x[:4].upper()"
   ]
  },
  {
   "cell_type": "code",
   "execution_count": 32,
   "metadata": {},
   "outputs": [
    {
     "data": {
      "text/plain": [
       "<function __main__.<lambda>>"
      ]
     },
     "execution_count": 32,
     "metadata": {},
     "output_type": "execute_result"
    }
   ],
   "source": [
    "transform"
   ]
  },
  {
   "cell_type": "code",
   "execution_count": 33,
   "metadata": {},
   "outputs": [
    {
     "data": {
      "text/plain": [
       "Index(['OHIO', 'COLO', 'NEW '], dtype='object')"
      ]
     },
     "execution_count": 33,
     "metadata": {},
     "output_type": "execute_result"
    }
   ],
   "source": [
    "data.index.map(transform)"
   ]
  },
  {
   "cell_type": "code",
   "execution_count": 34,
   "metadata": {},
   "outputs": [],
   "source": [
    "data.index = data.index.map(transform)"
   ]
  },
  {
   "cell_type": "code",
   "execution_count": 35,
   "metadata": {},
   "outputs": [
    {
     "data": {
      "text/plain": [
       "Index(['OHIO', 'COLO', 'NEW '], dtype='object')"
      ]
     },
     "execution_count": 35,
     "metadata": {},
     "output_type": "execute_result"
    }
   ],
   "source": [
    "data.index"
   ]
  },
  {
   "cell_type": "code",
   "execution_count": 36,
   "metadata": {},
   "outputs": [
    {
     "data": {
      "text/html": [
       "<div>\n",
       "<style>\n",
       "    .dataframe thead tr:only-child th {\n",
       "        text-align: right;\n",
       "    }\n",
       "\n",
       "    .dataframe thead th {\n",
       "        text-align: left;\n",
       "    }\n",
       "\n",
       "    .dataframe tbody tr th {\n",
       "        vertical-align: top;\n",
       "    }\n",
       "</style>\n",
       "<table border=\"1\" class=\"dataframe\">\n",
       "  <thead>\n",
       "    <tr style=\"text-align: right;\">\n",
       "      <th></th>\n",
       "      <th>one</th>\n",
       "      <th>two</th>\n",
       "      <th>three</th>\n",
       "      <th>four</th>\n",
       "    </tr>\n",
       "  </thead>\n",
       "  <tbody>\n",
       "    <tr>\n",
       "      <th>OHIO</th>\n",
       "      <td>0</td>\n",
       "      <td>1</td>\n",
       "      <td>2</td>\n",
       "      <td>3</td>\n",
       "    </tr>\n",
       "    <tr>\n",
       "      <th>COLO</th>\n",
       "      <td>4</td>\n",
       "      <td>5</td>\n",
       "      <td>6</td>\n",
       "      <td>7</td>\n",
       "    </tr>\n",
       "    <tr>\n",
       "      <th>NEW</th>\n",
       "      <td>8</td>\n",
       "      <td>9</td>\n",
       "      <td>10</td>\n",
       "      <td>11</td>\n",
       "    </tr>\n",
       "  </tbody>\n",
       "</table>\n",
       "</div>"
      ],
      "text/plain": [
       "      one  two  three  four\n",
       "OHIO    0    1      2     3\n",
       "COLO    4    5      6     7\n",
       "NEW     8    9     10    11"
      ]
     },
     "execution_count": 36,
     "metadata": {},
     "output_type": "execute_result"
    }
   ],
   "source": [
    "data"
   ]
  },
  {
   "cell_type": "code",
   "execution_count": 37,
   "metadata": {},
   "outputs": [
    {
     "data": {
      "text/html": [
       "<div>\n",
       "<style>\n",
       "    .dataframe thead tr:only-child th {\n",
       "        text-align: right;\n",
       "    }\n",
       "\n",
       "    .dataframe thead th {\n",
       "        text-align: left;\n",
       "    }\n",
       "\n",
       "    .dataframe tbody tr th {\n",
       "        vertical-align: top;\n",
       "    }\n",
       "</style>\n",
       "<table border=\"1\" class=\"dataframe\">\n",
       "  <thead>\n",
       "    <tr style=\"text-align: right;\">\n",
       "      <th></th>\n",
       "      <th>ONE</th>\n",
       "      <th>TWO</th>\n",
       "      <th>THREE</th>\n",
       "      <th>FOUR</th>\n",
       "    </tr>\n",
       "  </thead>\n",
       "  <tbody>\n",
       "    <tr>\n",
       "      <th>Ohio</th>\n",
       "      <td>0</td>\n",
       "      <td>1</td>\n",
       "      <td>2</td>\n",
       "      <td>3</td>\n",
       "    </tr>\n",
       "    <tr>\n",
       "      <th>Colo</th>\n",
       "      <td>4</td>\n",
       "      <td>5</td>\n",
       "      <td>6</td>\n",
       "      <td>7</td>\n",
       "    </tr>\n",
       "    <tr>\n",
       "      <th>New</th>\n",
       "      <td>8</td>\n",
       "      <td>9</td>\n",
       "      <td>10</td>\n",
       "      <td>11</td>\n",
       "    </tr>\n",
       "  </tbody>\n",
       "</table>\n",
       "</div>"
      ],
      "text/plain": [
       "      ONE  TWO  THREE  FOUR\n",
       "Ohio    0    1      2     3\n",
       "Colo    4    5      6     7\n",
       "New     8    9     10    11"
      ]
     },
     "execution_count": 37,
     "metadata": {},
     "output_type": "execute_result"
    }
   ],
   "source": [
    "#creer une version transformée du dataset sans modifier l'original rename()\n",
    "data.rename(index=str.title,columns=str.upper)"
   ]
  },
  {
   "cell_type": "code",
   "execution_count": 38,
   "metadata": {},
   "outputs": [
    {
     "data": {
      "text/html": [
       "<div>\n",
       "<style>\n",
       "    .dataframe thead tr:only-child th {\n",
       "        text-align: right;\n",
       "    }\n",
       "\n",
       "    .dataframe thead th {\n",
       "        text-align: left;\n",
       "    }\n",
       "\n",
       "    .dataframe tbody tr th {\n",
       "        vertical-align: top;\n",
       "    }\n",
       "</style>\n",
       "<table border=\"1\" class=\"dataframe\">\n",
       "  <thead>\n",
       "    <tr style=\"text-align: right;\">\n",
       "      <th></th>\n",
       "      <th>one</th>\n",
       "      <th>two</th>\n",
       "      <th>peekaboo</th>\n",
       "      <th>four</th>\n",
       "    </tr>\n",
       "  </thead>\n",
       "  <tbody>\n",
       "    <tr>\n",
       "      <th>INDIANA</th>\n",
       "      <td>0</td>\n",
       "      <td>1</td>\n",
       "      <td>2</td>\n",
       "      <td>3</td>\n",
       "    </tr>\n",
       "    <tr>\n",
       "      <th>COLO</th>\n",
       "      <td>4</td>\n",
       "      <td>5</td>\n",
       "      <td>6</td>\n",
       "      <td>7</td>\n",
       "    </tr>\n",
       "    <tr>\n",
       "      <th>NEW</th>\n",
       "      <td>8</td>\n",
       "      <td>9</td>\n",
       "      <td>10</td>\n",
       "      <td>11</td>\n",
       "    </tr>\n",
       "  </tbody>\n",
       "</table>\n",
       "</div>"
      ],
      "text/plain": [
       "         one  two  peekaboo  four\n",
       "INDIANA    0    1         2     3\n",
       "COLO       4    5         6     7\n",
       "NEW        8    9        10    11"
      ]
     },
     "execution_count": 38,
     "metadata": {},
     "output_type": "execute_result"
    }
   ],
   "source": [
    "# utiliser rename() avec un dict\n",
    "data.rename(index={'OHIO':'INDIANA'},columns={'three':'peekaboo'})"
   ]
  },
  {
   "cell_type": "code",
   "execution_count": 39,
   "metadata": {},
   "outputs": [
    {
     "data": {
      "text/plain": [
       "' Discretization and Binning : '"
      ]
     },
     "execution_count": 39,
     "metadata": {},
     "output_type": "execute_result"
    }
   ],
   "source": [
    "\"\"\" Discretization and Binning : \"\"\""
   ]
  },
  {
   "cell_type": "code",
   "execution_count": 40,
   "metadata": {},
   "outputs": [],
   "source": [
    "ages = [20,22,25,27,21,23,37,31,61,45,41,32]"
   ]
  },
  {
   "cell_type": "code",
   "execution_count": 41,
   "metadata": {},
   "outputs": [],
   "source": [
    "#diviser ces elements dans des 'bins' (boite) representant des tranches d'âge\n",
    "bins = [18,25,35,60,100]"
   ]
  },
  {
   "cell_type": "code",
   "execution_count": 42,
   "metadata": {},
   "outputs": [],
   "source": [
    "cats = pd.cut(ages,bins)"
   ]
  },
  {
   "cell_type": "code",
   "execution_count": 43,
   "metadata": {},
   "outputs": [
    {
     "data": {
      "text/plain": [
       "[(18, 25], (18, 25], (18, 25], (25, 35], (18, 25], ..., (25, 35], (60, 100], (35, 60], (35, 60], (25, 35]]\n",
       "Length: 12\n",
       "Categories (4, interval[int64]): [(18, 25] < (25, 35] < (35, 60] < (60, 100]]"
      ]
     },
     "execution_count": 43,
     "metadata": {},
     "output_type": "execute_result"
    }
   ],
   "source": [
    "cats#renvoie dans quelle intervalle se trouve chaque nombre"
   ]
  },
  {
   "cell_type": "code",
   "execution_count": 44,
   "metadata": {},
   "outputs": [
    {
     "data": {
      "text/plain": [
       "array([0, 0, 0, 1, 0, 0, 2, 1, 3, 2, 2, 1], dtype=int8)"
      ]
     },
     "execution_count": 44,
     "metadata": {},
     "output_type": "execute_result"
    }
   ],
   "source": [
    "cats.codes# renvoie des codes pour chaque elt par rapport aux intervalles"
   ]
  },
  {
   "cell_type": "code",
   "execution_count": 45,
   "metadata": {},
   "outputs": [
    {
     "data": {
      "text/plain": [
       "IntervalIndex([(18, 25], (25, 35], (35, 60], (60, 100]]\n",
       "              closed='right',\n",
       "              dtype='interval[int64]')"
      ]
     },
     "execution_count": 45,
     "metadata": {},
     "output_type": "execute_result"
    }
   ],
   "source": [
    "cats.categories #nom des categories"
   ]
  },
  {
   "cell_type": "code",
   "execution_count": 46,
   "metadata": {},
   "outputs": [
    {
     "data": {
      "text/plain": [
       "(18, 25]     5\n",
       "(35, 60]     3\n",
       "(25, 35]     3\n",
       "(60, 100]    1\n",
       "dtype: int64"
      ]
     },
     "execution_count": 46,
     "metadata": {},
     "output_type": "execute_result"
    }
   ],
   "source": [
    "pd.value_counts(cats)# nombre d'elements pas categorie"
   ]
  },
  {
   "cell_type": "code",
   "execution_count": 47,
   "metadata": {},
   "outputs": [],
   "source": [
    "# renommer les bins\n",
    "group_names = ['Youth','YoungAdult','MiddleAges','Senior']"
   ]
  },
  {
   "cell_type": "code",
   "execution_count": 48,
   "metadata": {},
   "outputs": [
    {
     "data": {
      "text/plain": [
       "['Youth', 'YoungAdult', 'MiddleAges', 'Senior']"
      ]
     },
     "execution_count": 48,
     "metadata": {},
     "output_type": "execute_result"
    }
   ],
   "source": [
    "group_names"
   ]
  },
  {
   "cell_type": "code",
   "execution_count": 49,
   "metadata": {},
   "outputs": [
    {
     "data": {
      "text/plain": [
       "[Youth, Youth, Youth, YoungAdult, Youth, ..., YoungAdult, Senior, MiddleAges, MiddleAges, YoungAdult]\n",
       "Length: 12\n",
       "Categories (4, object): [Youth < YoungAdult < MiddleAges < Senior]"
      ]
     },
     "execution_count": 49,
     "metadata": {},
     "output_type": "execute_result"
    }
   ],
   "source": [
    "pd.cut(ages,bins,labels=group_names)"
   ]
  },
  {
   "cell_type": "code",
   "execution_count": 50,
   "metadata": {},
   "outputs": [],
   "source": [
    "data = np.random.rand(20)"
   ]
  },
  {
   "cell_type": "code",
   "execution_count": 51,
   "metadata": {},
   "outputs": [
    {
     "data": {
      "text/plain": [
       "array([ 0.44325794,  0.29099175,  0.2236473 ,  0.27617865,  0.85873892,\n",
       "        0.74911754,  0.59776129,  0.95739466,  0.99440243,  0.75839179,\n",
       "        0.08063299,  0.41630174,  0.88859305,  0.24872178,  0.9005196 ,\n",
       "        0.86904634,  0.71342446,  0.51550962,  0.28661166,  0.44759989])"
      ]
     },
     "execution_count": 51,
     "metadata": {},
     "output_type": "execute_result"
    }
   ],
   "source": [
    "data"
   ]
  },
  {
   "cell_type": "code",
   "execution_count": 52,
   "metadata": {},
   "outputs": [
    {
     "data": {
      "text/plain": [
       "[(0.31, 0.54], (0.08, 0.31], (0.08, 0.31], (0.08, 0.31], (0.77, 0.99], ..., (0.77, 0.99], (0.54, 0.77], (0.31, 0.54], (0.08, 0.31], (0.31, 0.54]]\n",
       "Length: 20\n",
       "Categories (4, interval[float64]): [(0.08, 0.31] < (0.31, 0.54] < (0.54, 0.77] < (0.77, 0.99]]"
      ]
     },
     "execution_count": 52,
     "metadata": {},
     "output_type": "execute_result"
    }
   ],
   "source": [
    "pd.cut(data,4,precision=2)#choisir le nombre de bins et la precision après la virgule"
   ]
  },
  {
   "cell_type": "code",
   "execution_count": 53,
   "metadata": {},
   "outputs": [],
   "source": [
    "data = np.random.randn(1000)#distribution normale"
   ]
  },
  {
   "cell_type": "code",
   "execution_count": 54,
   "metadata": {},
   "outputs": [
    {
     "data": {
      "text/plain": [
       "array([  4.48437330e-01,  -2.82321399e-01,  -8.15769776e-01,\n",
       "         4.63516284e-01,   9.24076284e-01,   1.44440993e+00,\n",
       "         5.01171649e-01,   1.58359420e-01,   9.66596811e-01,\n",
       "         1.12434865e-01,  -1.61027006e+00,   3.08346792e-01,\n",
       "         6.27273956e-01,   8.08964915e-01,  -4.64932459e-01,\n",
       "        -1.12062110e+00,   5.65107822e-01,   9.16962911e-01,\n",
       "        -8.79396336e-01,   1.48270766e+00,  -1.70939451e+00,\n",
       "        -3.28766830e-01,   2.92768857e-02,   7.96883537e-01,\n",
       "        -1.04766245e+00,  -9.21215873e-01,  -1.15920098e+00,\n",
       "         7.66262001e-01,   8.10009119e-01,   9.67307667e-01,\n",
       "        -3.50288225e-01,   2.13123087e-01,   5.45833869e-01,\n",
       "         1.51614335e+00,   4.80875271e-01,   6.74179761e-01,\n",
       "         6.49000600e-01,  -2.07567384e+00,   2.10975399e-01,\n",
       "        -9.32351929e-01,   3.98604368e-01,  -1.00594926e+00,\n",
       "        -1.23529634e+00,   4.16597721e-01,  -1.07725672e+00,\n",
       "         7.42932769e-01,  -1.15772530e-01,  -3.29125843e-01,\n",
       "        -2.24411354e-01,  -1.54016173e+00,  -1.29526442e+00,\n",
       "        -2.63998298e+00,   2.06278241e-01,  -7.61257262e-01,\n",
       "         4.73795425e-01,   1.53514418e+00,   1.57847186e+00,\n",
       "         1.20528066e+00,   1.05074791e+00,  -1.37875963e+00,\n",
       "        -3.09513498e-01,   8.86585912e-02,   1.60878754e+00,\n",
       "         2.65903919e-01,   4.34672472e-01,  -1.80458014e-01,\n",
       "         8.88981922e-01,   1.06959962e+00,  -1.36947475e-01,\n",
       "         3.69245248e-01,   1.21951423e+00,   2.88927440e+00,\n",
       "        -5.55138493e-01,  -1.46519609e+00,  -8.92875176e-01,\n",
       "         2.11431172e-01,   2.18588811e-01,  -1.71437605e+00,\n",
       "        -1.89858889e-01,   1.50237518e-01,  -1.55542110e+00,\n",
       "        -1.07585342e+00,   8.08792175e-01,   1.40904836e+00,\n",
       "        -7.36582062e-01,  -1.35516089e-01,  -5.97028177e-01,\n",
       "        -1.49522512e-01,   6.02757316e-01,   1.50475179e+00,\n",
       "        -9.56681497e-01,  -9.19877786e-01,   3.63761477e-02,\n",
       "         4.62064014e-01,  -1.86850722e+00,   5.35379829e-01,\n",
       "        -1.75930607e+00,   8.81027537e-01,   1.07496058e+00,\n",
       "         9.67235310e-01,  -1.41408173e+00,   3.94998431e-01,\n",
       "        -8.86945395e-01,   1.43998599e+00,  -7.52986625e-01,\n",
       "         9.23351867e-01,   1.52433361e-02,   2.20712044e-01,\n",
       "        -1.64557642e+00,   1.20550687e+00,  -1.13592460e+00,\n",
       "        -7.96275251e-01,  -7.27962266e-01,   1.06539410e-01,\n",
       "        -1.84460055e+00,   7.57240014e-01,   1.54960239e+00,\n",
       "         2.60729030e-01,   9.36421531e-01,  -6.54167749e-01,\n",
       "         7.51436396e-01,  -5.90987639e-02,  -9.21141426e-01,\n",
       "         7.12395081e-01,   9.43431802e-01,   1.60909205e+00,\n",
       "        -1.62613492e+00,   2.10822466e+00,  -1.14088689e+00,\n",
       "        -9.12349014e-01,  -2.30783827e-02,   8.91147509e-01,\n",
       "         6.55758598e-01,  -3.15444696e-01,  -1.08125393e+00,\n",
       "        -1.87152851e-01,   1.14584017e+00,  -5.28121749e-01,\n",
       "        -2.57720405e-01,   1.47896158e+00,  -1.07083358e+00,\n",
       "        -1.98304291e-01,  -1.59547814e-01,  -2.89303828e+00,\n",
       "         6.90930269e-01,  -3.10852253e-01,  -9.14411483e-01,\n",
       "        -1.05887870e+00,   3.10725379e-01,  -4.74650241e-01,\n",
       "        -4.60943898e-01,  -3.94250584e-01,   2.29702512e-01,\n",
       "        -1.83476462e+00,  -1.98882123e+00,  -5.17469261e-01,\n",
       "         9.36920013e-01,  -2.11165042e+00,  -9.12408387e-01,\n",
       "        -4.22319566e-02,   1.08398927e+00,  -1.05115571e+00,\n",
       "         5.92715213e-01,   1.87246368e+00,   5.34422215e-01,\n",
       "         1.35047991e+00,   6.32515489e-01,   3.95901951e-01,\n",
       "         2.21732632e-01,   2.41427864e+00,  -9.88693612e-03,\n",
       "         5.10047654e-01,  -6.14681606e-01,   9.57996271e-01,\n",
       "        -4.95463122e-01,  -3.27489416e-01,  -3.01609675e-01,\n",
       "         4.10543741e-01,  -1.27908257e-01,  -1.36081782e+00,\n",
       "         1.00379416e+00,   5.14323990e-01,  -1.57006244e+00,\n",
       "         4.58154022e-02,   1.53327564e+00,   4.71602990e-02,\n",
       "        -1.84509973e+00,  -8.24531176e-01,  -8.44354746e-01,\n",
       "        -1.43145802e+00,   2.00829883e-01,  -3.44899471e-02,\n",
       "        -5.64133994e-02,   8.85027771e-01,   1.15782478e+00,\n",
       "        -1.33907574e+00,   2.22466735e-01,   6.15374945e-01,\n",
       "         1.28677372e+00,   6.32076541e-02,   4.95280431e-01,\n",
       "         1.10010984e+00,  -3.15668163e-01,   5.55664963e-01,\n",
       "        -9.35151621e-01,   1.91356340e-02,   1.61003539e-01,\n",
       "        -1.37255292e+00,   2.27705616e-01,   7.84230878e-01,\n",
       "         1.10228008e+00,   8.21052370e-01,   1.45196164e+00,\n",
       "         1.56721624e+00,  -1.60955331e+00,  -8.93335557e-03,\n",
       "        -9.36346472e-01,   2.33757671e-01,  -5.37220412e-01,\n",
       "         2.45563525e+00,   3.58763917e-01,   2.35741522e-01,\n",
       "        -8.50870047e-01,   6.26471241e-01,  -6.89415003e-01,\n",
       "        -7.04568724e-01,   3.55493825e-01,   9.44318697e-01,\n",
       "        -3.88631322e-02,   6.42365098e-01,  -8.28122691e-01,\n",
       "         1.87223305e+00,   8.46923848e-02,   4.94960990e-01,\n",
       "        -3.14042327e-01,  -3.06612327e+00,  -1.23493073e+00,\n",
       "         4.96739220e-01,   1.43580650e+00,  -8.28539144e-01,\n",
       "        -3.68943362e-01,  -6.08065490e-01,   7.92630139e-01,\n",
       "        -2.61781048e-01,  -1.55464733e+00,   2.22616865e+00,\n",
       "        -1.18352317e-01,   1.07116873e-03,  -4.29242821e-01,\n",
       "        -6.13135333e-01,  -3.55612515e-01,   3.13717853e-01,\n",
       "        -3.82948810e-02,  -2.40033625e+00,  -6.57312599e-01,\n",
       "         1.50503263e+00,  -1.44006965e-02,   4.61204102e-02,\n",
       "         4.42058255e-01,  -8.79204267e-01,   2.09925906e-03,\n",
       "         7.57932808e-01,  -3.03842639e-01,  -2.64281308e+00,\n",
       "        -2.18132649e+00,   6.03968702e-01,   2.20853565e+00,\n",
       "         2.37048129e+00,   2.14648887e-01,  -9.33740078e-01,\n",
       "        -1.55855022e+00,   1.82783368e+00,  -8.37668424e-01,\n",
       "         4.30192650e-01,  -1.04498540e+00,   4.60549085e-01,\n",
       "         4.17738769e-01,   1.54284434e-01,  -1.22357373e+00,\n",
       "         8.51354687e-01,  -1.15962477e+00,   1.62186498e-01,\n",
       "         2.53510307e+00,  -1.65269465e-01,  -2.90741734e-01,\n",
       "        -4.59857588e-01,  -4.58372950e-01,   9.15887763e-01,\n",
       "         3.09784545e-01,   3.73336224e-01,  -4.35564341e-01,\n",
       "        -8.37938906e-01,   3.00885017e-01,  -4.48141301e-02,\n",
       "         1.19265346e+00,  -1.50729225e+00,   7.70295264e-01,\n",
       "        -7.87591649e-01,  -3.83264984e-01,   2.62176561e-01,\n",
       "        -8.22558325e-01,  -1.52311250e+00,  -4.14231232e-01,\n",
       "        -7.35400982e-01,   5.67084411e-01,   8.45717653e-01,\n",
       "         1.74417169e+00,   1.94537765e+00,  -9.26725456e-01,\n",
       "        -6.02186002e-01,   1.90632935e+00,  -6.02486975e-01,\n",
       "         7.26074252e-01,  -3.91237474e-01,  -9.41306505e-01,\n",
       "         2.43980725e+00,  -1.49191067e+00,   1.32136648e+00,\n",
       "         5.70050182e-01,   3.81738193e-02,   8.93818023e-01,\n",
       "        -1.98495425e+00,  -7.31532609e-01,   5.95727806e-03,\n",
       "         7.61193562e-01,   8.27756702e-01,   2.21040148e-01,\n",
       "        -3.51699301e+00,  -1.52153037e+00,  -8.35019702e-01,\n",
       "        -5.44080046e-01,  -9.75613775e-01,   1.86511601e+00,\n",
       "         3.61041558e-01,  -2.16562099e+00,   4.72832875e-01,\n",
       "        -4.20825316e-01,  -1.22157100e+00,   9.07279977e-01,\n",
       "        -1.24259085e-01,  -3.96600439e-01,   1.11930016e+00,\n",
       "         9.81612106e-01,  -2.25542602e+00,   6.41364600e-02,\n",
       "         7.89943252e-01,   1.22061483e-01,  -3.12649340e-01,\n",
       "        -9.73513395e-01,   8.46336953e-01,  -1.28519775e+00,\n",
       "        -1.69410314e+00,   1.45762262e+00,   2.35599166e+00,\n",
       "         1.48013147e+00,  -2.60381464e+00,   1.94411306e-02,\n",
       "         3.03914628e-01,   4.47570255e-01,  -2.36802703e-01,\n",
       "        -2.26657407e-01,   7.39550101e-01,   1.67055141e+00,\n",
       "        -8.67754567e-02,  -5.78823249e-01,   1.84763870e+00,\n",
       "         4.33171738e-01,   1.52522326e+00,  -9.37096992e-01,\n",
       "        -7.56190958e-01,  -1.48176652e+00,  -8.69628901e-01,\n",
       "         1.91397887e+00,  -6.68286587e-01,  -9.45787475e-02,\n",
       "        -4.32645686e-01,   3.13290305e-01,   8.67931454e-01,\n",
       "         1.84151388e+00,   1.30485758e-01,  -1.03630204e+00,\n",
       "        -5.71802428e-01,   1.66471215e-01,   1.17529931e+00,\n",
       "         1.78071082e-01,  -1.34021540e+00,  -1.00631905e+00,\n",
       "         5.68052589e-01,   2.01552209e-01,  -1.86614153e-01,\n",
       "         1.69309389e-01,  -1.16253011e+00,  -1.07673697e-01,\n",
       "         3.84974863e-03,   1.17388352e+00,  -2.03707816e-01,\n",
       "        -4.53147142e-01,  -8.48941891e-01,  -7.56383276e-01,\n",
       "        -9.99853556e-02,  -8.74131638e-01,  -8.73324034e-01,\n",
       "         6.16758475e-01,  -2.04988996e+00,  -2.55207781e-01,\n",
       "        -3.08081866e-01,  -6.33509279e-01,   3.01926798e-01,\n",
       "         2.82115018e-01,  -9.34520229e-01,   8.13647860e-01,\n",
       "         2.96692933e-01,   8.01261679e-02,  -2.75124019e-01,\n",
       "        -3.78165135e-01,   6.79806407e-01,  -9.18044160e-02,\n",
       "         1.05929177e+00,   8.14533133e-01,  -8.90963733e-01,\n",
       "        -4.62520965e-02,   1.40401408e-02,  -2.24173359e-03,\n",
       "         5.93784089e-01,  -4.69286190e-01,  -5.63393760e-01,\n",
       "        -1.31098003e+00,   2.66494633e-01,   4.05707131e-01,\n",
       "         4.55988331e-01,   1.01834384e+00,  -2.69709157e-01,\n",
       "        -1.82723736e-02,  -6.16975241e-02,  -2.16586375e+00,\n",
       "        -2.23712349e-01,   5.91183301e-01,   1.84033121e-01,\n",
       "         8.83063934e-01,   1.89583744e+00,   3.93835850e-01,\n",
       "         1.35039832e+00,  -4.27075803e-01,  -9.72572873e-01,\n",
       "         6.81082563e-01,   4.32847768e-01,  -5.11011152e-01,\n",
       "         4.05216093e-01,  -1.69132636e-01,   1.56846104e+00,\n",
       "        -2.95691148e-01,  -1.23731743e+00,  -1.44037272e-01,\n",
       "        -5.73905048e-01,   6.07740030e-01,   4.02889516e-02,\n",
       "         2.10136796e+00,   3.54142070e-02,  -2.48868150e+00,\n",
       "         1.64701788e+00,   8.32797685e-01,   2.60988799e+00,\n",
       "         1.25608857e+00,  -9.85598681e-01,   5.90694602e-02,\n",
       "         6.14774935e-01,  -2.75242520e-01,   5.15952647e-01,\n",
       "         9.06803139e-01,   5.00109772e-01,   7.42283920e-01,\n",
       "         5.31996536e-01,   1.22930522e-01,   9.92448885e-01,\n",
       "         2.01643253e-01,   8.47871639e-02,   8.98023967e-01,\n",
       "        -5.87761455e-01,  -1.03195454e+00,  -8.23963399e-01,\n",
       "        -8.83708864e-01,   8.48917661e-01,   9.89138164e-01,\n",
       "         8.87342490e-01,   1.37507107e+00,  -2.72386165e-01,\n",
       "         1.21724980e+00,  -9.21858453e-01,  -9.45370157e-01,\n",
       "        -1.02367772e+00,  -2.44297232e-01,   1.85693388e-01,\n",
       "        -2.50208207e+00,   1.05605632e-01,   3.46671407e-02,\n",
       "         8.91075783e-01,   2.11889928e+00,  -1.76277957e+00,\n",
       "         1.95415701e-01,  -1.57544730e-01,  -8.48833440e-01,\n",
       "        -8.80483188e-01,  -5.60772780e-01,   4.56459081e-01,\n",
       "        -8.07582056e-01,  -2.42952665e+00,   8.29985928e-01,\n",
       "         1.17243683e+00,  -2.44688936e-01,   3.33708118e-01,\n",
       "         5.65323643e-01,  -1.04644670e+00,   3.06457590e-01,\n",
       "         9.46251959e-01,   1.15494791e+00,  -5.98752256e-01,\n",
       "        -8.82405126e-01,  -2.06738375e-02,   3.70855807e-01,\n",
       "         6.03526985e-01,  -1.75768466e+00,  -3.64836459e-01,\n",
       "        -1.35503579e+00,   8.62590123e-01,  -7.00664147e-01,\n",
       "         9.93958322e-01,  -1.92599934e+00,  -5.97339626e-01,\n",
       "        -3.42840974e-01,   1.55688931e-01,   7.73342983e-02,\n",
       "        -8.91357160e-01,  -6.75943283e-03,   2.08488548e-02,\n",
       "         1.39457200e+00,   1.16358266e-01,  -1.07648466e+00,\n",
       "        -6.81271385e-01,  -9.68912368e-01,   8.24514628e-01,\n",
       "        -2.75887998e+00,   1.66161406e-02,  -6.91997846e-02,\n",
       "         1.07370832e+00,  -3.65874703e-01,  -5.40662245e-01,\n",
       "         7.46593601e-01,  -2.24154461e+00,  -2.22604144e-01,\n",
       "         1.21625692e+00,   1.13159232e-01,  -2.13847196e+00,\n",
       "         1.36152065e+00,  -8.45561751e-01,  -1.57766681e+00,\n",
       "        -7.13437738e-02,   2.66644921e-01,   9.23095874e-01,\n",
       "         4.81337159e-01,  -6.55691768e-01,  -1.14787961e+00,\n",
       "        -5.25664993e-01,  -1.05686952e+00,  -4.84592441e-01,\n",
       "        -8.58043034e-02,  -4.29652580e-01,   1.59915631e+00,\n",
       "        -1.50855748e+00,   8.31830782e-01,   6.28093347e-01,\n",
       "        -8.98069453e-01,   3.79165734e-01,  -1.15864456e+00,\n",
       "         8.27189939e-01,   1.77982219e+00,   1.37891515e+00,\n",
       "         4.06567005e-02,  -1.02463110e+00,   6.51767513e-01,\n",
       "         3.12237335e-01,   1.45649063e-02,  -3.62141532e-01,\n",
       "        -1.02233180e+00,   2.13378688e+00,  -7.91164663e-01,\n",
       "         1.29250953e+00,  -1.70159255e+00,   1.55427597e+00,\n",
       "         6.94498229e-01,  -2.74155635e-01,  -6.44499084e-01,\n",
       "         1.42457072e+00,  -5.71325248e-01,   1.59990064e+00,\n",
       "         2.95889995e-01,   1.82991969e+00,  -3.11346480e-02,\n",
       "         1.50003160e+00,   1.12077783e-01,  -1.18336745e+00,\n",
       "        -9.54947396e-01,  -5.36024616e-01,   5.31400004e-01,\n",
       "         1.67355437e+00,   1.55572589e+00,   1.81621874e+00,\n",
       "         5.16542773e-01,   5.29753579e-01,   1.76239168e+00,\n",
       "         3.87777260e-01,  -8.03252995e-01,  -4.65323803e-01,\n",
       "         2.30781674e+00,  -9.40855066e-01,   7.14597335e-01,\n",
       "         7.45361866e-02,  -1.06231955e+00,   1.22338828e+00,\n",
       "         1.05071732e+00,   1.24991572e+00,   2.31252667e-01,\n",
       "         2.44119464e-01,  -4.11027227e-01,   6.42942863e-01,\n",
       "        -7.47583217e-01,   4.98043780e-02,  -7.18310433e-01,\n",
       "        -6.90857493e-01,   1.49126666e+00,   1.14100977e+00,\n",
       "        -1.16163004e+00,   5.44892057e-01,   7.51623996e-01,\n",
       "        -3.19819588e-01,   6.10253577e-01,   4.22291454e-01,\n",
       "        -1.15212111e+00,   1.55233780e+00,  -5.77093020e-01,\n",
       "         8.63349319e-01,   1.58787698e+00,   5.53106447e-01,\n",
       "         5.07188537e-01,   1.31342520e+00,   1.31193955e+00,\n",
       "        -6.88270805e-01,  -1.07902171e-01,   8.36968912e-01,\n",
       "         1.73548756e+00,   1.38619856e+00,  -1.34491329e+00,\n",
       "        -1.91952011e-01,   8.20256637e-01,   1.02230296e+00,\n",
       "         1.36278120e-02,   4.57000877e-02,   1.48545075e+00,\n",
       "        -1.30672746e+00,   4.19139139e-02,   8.00275031e-01,\n",
       "         2.40774611e-02,   9.59325678e-01,   1.71836988e-01,\n",
       "         5.98814614e-01,   2.85733416e-01,  -9.61899430e-01,\n",
       "        -1.24926752e-01,   5.94082963e-01,   9.30571429e-01,\n",
       "        -1.04280493e+00,  -1.20182482e+00,   9.16466288e-01,\n",
       "         1.22324887e+00,   5.70304829e-01,   1.02500695e+00,\n",
       "         8.11772223e-01,   5.35222757e-01,   7.11815804e-01,\n",
       "        -6.28371344e-01,  -1.76181516e+00,   5.30891101e-01,\n",
       "        -1.40935320e+00,   1.49062897e+00,   3.40823744e-01,\n",
       "         1.85804016e+00,   3.42556461e-01,  -1.17416512e+00,\n",
       "         4.62251832e-01,  -5.19683424e-01,   1.65345326e+00,\n",
       "        -7.53176158e-01,  -8.58902456e-01,   2.69340852e-01,\n",
       "        -5.08205375e-01,  -1.40731227e-01,   1.61747493e+00,\n",
       "         7.49489746e-02,   7.08346018e-01,  -2.50912566e-01,\n",
       "         6.70768455e-01,   1.35363326e-01,  -8.50696866e-01,\n",
       "         1.01103986e+00,  -9.51977366e-01,   2.92509892e-01,\n",
       "        -5.02384514e-01,  -3.75263758e-01,   1.55854242e+00,\n",
       "         1.00525729e-01,   5.66142784e-01,   1.11012504e+00,\n",
       "         1.15791649e+00,   1.33823199e+00,  -1.48918085e-01,\n",
       "        -6.46684110e-01,   6.21040918e-01,  -7.58259412e-01,\n",
       "         1.52547549e+00,  -1.44180605e+00,  -2.59085966e-01,\n",
       "         7.31890489e-01,  -7.97340513e-01,  -1.04230663e+00,\n",
       "         9.70833583e-01,  -7.47572785e-01,  -1.25375944e+00,\n",
       "         1.25769007e+00,  -6.65192687e-01,   1.26482082e+00,\n",
       "         1.43490383e+00,   1.30558427e+00,   3.19426856e-01,\n",
       "        -9.56950664e-02,  -8.68761722e-01,   1.00178820e+00,\n",
       "        -1.85611174e+00,  -4.86843559e-01,   1.37984855e+00,\n",
       "        -1.22735578e+00,  -4.58218967e-01,  -2.04909256e+00,\n",
       "        -1.55431402e+00,   4.55686905e-01,   3.97685822e-01,\n",
       "         2.43797327e-02,  -3.56947493e-02,  -4.22835803e-02,\n",
       "         5.33044807e-01,   1.52126612e+00,  -6.83927642e-01,\n",
       "         2.00458441e+00,  -4.62251656e-01,   1.46049784e+00,\n",
       "        -1.31116297e+00,   6.05372633e-01,   1.86510900e+00,\n",
       "         1.35198424e+00,  -7.45900227e-01,   2.52688747e-02,\n",
       "         6.88820856e-01,   1.81245798e+00,   1.24119409e-01,\n",
       "        -1.91184750e+00,   8.69188494e-01,   1.70643469e-01,\n",
       "        -8.45191465e-01,   1.54578534e+00,  -8.01749521e-02,\n",
       "        -1.54153054e+00,  -9.64944017e-02,   1.98197215e-01,\n",
       "        -4.64220792e-01,   6.55236274e-02,   6.40781947e-01,\n",
       "        -1.36593412e+00,  -1.48990054e+00,  -3.48424173e-01,\n",
       "        -9.57249436e-01,   1.46911614e+00,   1.01171416e+00,\n",
       "        -9.59623423e-01,   3.78930108e-01,  -1.51014969e+00,\n",
       "         7.95958145e-01,  -2.74636426e+00,  -2.03025585e-01,\n",
       "         8.91158781e-01,  -9.66875276e-01,  -1.68195122e-01,\n",
       "        -1.99872390e-01,   5.03603440e-01,   1.29534422e+00,\n",
       "        -3.46920512e-01,   1.43926345e+00,   2.62985962e-01,\n",
       "        -7.06130421e-01,  -5.50179679e-01,  -2.82187035e-01,\n",
       "        -5.50403148e-01,  -6.35601461e-02,   1.41851276e+00,\n",
       "         9.57214770e-01,   1.14637840e+00,   8.25624427e-01,\n",
       "        -1.86517170e+00,   1.03168807e+00,   1.58862851e-01,\n",
       "         8.86792673e-01,  -4.73541299e-01,   1.15858203e+00,\n",
       "         7.09361954e-01,   9.80707854e-01,  -1.10202917e+00,\n",
       "        -2.99033305e-01,   1.56824971e+00,   1.33997391e+00,\n",
       "         3.72596678e-01,   1.73695766e+00,  -1.41390178e+00,\n",
       "        -1.07373255e+00,   5.70345601e-02,   6.66605730e-01,\n",
       "        -8.53134857e-01,  -1.89143280e-01,   6.19301027e-01,\n",
       "         8.33668483e-01,   5.87897646e-01,   1.87482820e-01,\n",
       "         8.72046465e-01,  -3.55246623e-01,   2.27507365e+00,\n",
       "        -3.60717711e-01,  -5.37625567e-01,  -9.13568569e-01,\n",
       "        -1.15427152e-01,   2.41118385e-01,   2.40769046e+00,\n",
       "         8.26802167e-01,   9.16471860e-03,  -1.87320004e+00,\n",
       "        -1.21350450e+00,  -1.73516657e-01,  -6.53757057e-01,\n",
       "         1.62322733e+00,  -1.41207246e+00,   3.07985722e-01,\n",
       "        -1.85016655e+00,  -2.14180837e+00,   3.11905957e-01,\n",
       "         9.11408679e-01,   6.45042367e-01,   2.17710429e-01,\n",
       "         8.68622348e-01,  -1.48196706e+00,   2.52631783e-01,\n",
       "        -2.20566102e+00,  -5.06049559e-01,  -5.75023998e-01,\n",
       "         8.22593719e-01,   8.21907320e-01,  -1.25117258e+00,\n",
       "         6.01424273e-01,  -8.05283315e-01,  -7.45128008e-02,\n",
       "        -2.56379849e-01,   7.49919981e-01,   3.51038488e-01,\n",
       "        -2.71066651e-01,  -4.33180605e-01,  -2.07445426e+00,\n",
       "        -3.99235680e-01,   1.16461076e+00,   1.83454018e+00,\n",
       "         1.47094032e+00,  -1.39014712e-01,  -1.08091734e+00,\n",
       "        -2.10226374e-01,   8.09467711e-01,   1.30135347e+00,\n",
       "        -4.78380551e-01,   4.89852750e-01,   5.47814679e-01,\n",
       "         5.91375552e-01,   2.22166595e+00,   1.56159858e+00,\n",
       "         4.06981009e-01,   4.24079926e-01,  -1.75398072e+00,\n",
       "        -9.15373543e-01,   5.45294360e-01,  -1.72690956e-01,\n",
       "         1.27402942e-01,   1.89840766e+00,   5.18384319e-01,\n",
       "        -1.72347967e+00,  -2.29312254e-01,   2.20394605e+00,\n",
       "         3.36413085e-01,   7.89992989e-01,  -2.26929258e+00,\n",
       "         1.74023081e+00,  -1.80269628e-03,  -7.01961188e-01,\n",
       "        -4.67199588e-01,   1.69541124e+00,  -5.57147637e-02,\n",
       "         1.03906729e+00,   1.88842454e+00,   1.52835120e+00,\n",
       "         1.20869782e+00,   2.71060932e-01,  -9.93746206e-01,\n",
       "        -1.47935375e+00,   1.43299193e+00,   2.73048845e-01,\n",
       "        -2.36899974e+00,  -1.83705829e+00,  -1.36863915e-01,\n",
       "         1.13730137e+00,   8.17775246e-01,  -1.29047120e+00,\n",
       "         4.61638576e-01,  -3.74064554e-01,  -9.21644666e-02,\n",
       "        -1.30081201e+00,   1.05960774e+00,   5.38110282e-01,\n",
       "        -1.42359936e+00,   1.44004883e-01,   8.68920883e-01,\n",
       "         3.84785581e-01,  -6.12828855e-01,  -2.75266943e-01,\n",
       "        -1.83310592e-01,  -8.19987732e-01,   1.85241910e+00,\n",
       "         1.53864570e+00,   1.09544376e+00,  -2.27137521e-01,\n",
       "         1.10200287e+00,   1.04067037e-01,   1.61136005e+00,\n",
       "        -4.34766365e-01,   4.62612345e-01,  -4.52602527e-01,\n",
       "        -6.07082931e-01,  -1.28844512e-01,  -5.71916768e-02,\n",
       "         1.03948246e+00,  -3.73377353e-01,   9.78013306e-02,\n",
       "        -6.88692341e-01,  -3.83610827e-01,  -9.98423344e-01,\n",
       "         2.73588892e-01,   3.62054756e-01,  -5.21708299e-02,\n",
       "        -2.02834012e+00,  -8.48556956e-01,   4.49872895e-01,\n",
       "        -1.02582157e+00,  -1.35379584e+00,   1.71337112e+00,\n",
       "         5.30114012e-01,   7.46005380e-01,   7.10982554e-01,\n",
       "        -1.52038248e+00,  -2.99391687e-01,  -2.41601175e-01,\n",
       "         7.25039185e-02,  -1.13038727e+00,  -1.90374945e-01,\n",
       "         7.15887270e-01,  -7.09020129e-01,   3.69324407e-01,\n",
       "         1.44574949e+00,   1.08676058e+00,   1.34142563e+00,\n",
       "        -5.11073006e-01,   1.13298005e+00,  -1.36094889e+00,\n",
       "         2.42599860e+00,  -8.98529248e-01,  -3.82004772e-01,\n",
       "         7.38206381e-02,   7.84669471e-01,   1.33695972e+00,\n",
       "        -2.30580133e+00,  -2.15933461e+00,  -4.01575000e-01,\n",
       "        -1.14320513e+00,   1.18529993e+00,  -3.40726280e-01,\n",
       "         5.19329311e-01,   1.37883741e+00,   4.66942192e-01,\n",
       "         1.06252204e+00,   1.50460761e+00,  -1.14538626e+00,\n",
       "         1.44621183e-01])"
      ]
     },
     "execution_count": 54,
     "metadata": {},
     "output_type": "execute_result"
    }
   ],
   "source": [
    "data"
   ]
  },
  {
   "cell_type": "code",
   "execution_count": 55,
   "metadata": {},
   "outputs": [],
   "source": [
    "cats = pd.qcut(data,4)#division par quartiles"
   ]
  },
  {
   "cell_type": "code",
   "execution_count": 56,
   "metadata": {},
   "outputs": [
    {
     "data": {
      "text/plain": [
       "[(0.0732, 0.802], (-0.682, 0.0732], (-3.518, -0.682], (0.0732, 0.802], (0.802, 2.889], ..., (0.0732, 0.802], (0.802, 2.889], (0.802, 2.889], (-3.518, -0.682], (0.0732, 0.802]]\n",
       "Length: 1000\n",
       "Categories (4, interval[float64]): [(-3.518, -0.682] < (-0.682, 0.0732] < (0.0732, 0.802] < (0.802, 2.889]]"
      ]
     },
     "execution_count": 56,
     "metadata": {},
     "output_type": "execute_result"
    }
   ],
   "source": [
    "cats"
   ]
  },
  {
   "cell_type": "code",
   "execution_count": 57,
   "metadata": {},
   "outputs": [
    {
     "data": {
      "text/plain": [
       "(0.802, 2.889]      250\n",
       "(0.0732, 0.802]     250\n",
       "(-0.682, 0.0732]    250\n",
       "(-3.518, -0.682]    250\n",
       "dtype: int64"
      ]
     },
     "execution_count": 57,
     "metadata": {},
     "output_type": "execute_result"
    }
   ],
   "source": [
    "pd.value_counts(cats)"
   ]
  },
  {
   "cell_type": "code",
   "execution_count": 58,
   "metadata": {},
   "outputs": [
    {
     "data": {
      "text/plain": [
       "[(0.0732, 1.433], (-1.286, 0.0732], (-1.286, 0.0732], (0.0732, 1.433], (0.0732, 1.433], ..., (0.0732, 1.433], (0.0732, 1.433], (1.433, 2.889], (-1.286, 0.0732], (0.0732, 1.433]]\n",
       "Length: 1000\n",
       "Categories (4, interval[float64]): [(-3.518, -1.286] < (-1.286, 0.0732] < (0.0732, 1.433] < (1.433, 2.889]]"
      ]
     },
     "execution_count": 58,
     "metadata": {},
     "output_type": "execute_result"
    }
   ],
   "source": [
    "#definir ses propres quantiles\n",
    "pd.qcut(data,[0,0.1,0.5,0.9,1.])"
   ]
  },
  {
   "cell_type": "code",
   "execution_count": 59,
   "metadata": {},
   "outputs": [
    {
     "data": {
      "text/plain": [
       "' Detecting and Filtering outliers '"
      ]
     },
     "execution_count": 59,
     "metadata": {},
     "output_type": "execute_result"
    }
   ],
   "source": [
    "\"\"\" Detecting and Filtering outliers \"\"\""
   ]
  },
  {
   "cell_type": "code",
   "execution_count": null,
   "metadata": {},
   "outputs": [],
   "source": []
  }
 ],
 "metadata": {
  "kernelspec": {
   "display_name": "Python 3",
   "language": "python",
   "name": "python3"
  },
  "language_info": {
   "codemirror_mode": {
    "name": "ipython",
    "version": 3
   },
   "file_extension": ".py",
   "mimetype": "text/x-python",
   "name": "python",
   "nbconvert_exporter": "python",
   "pygments_lexer": "ipython3",
   "version": "3.6.1"
  }
 },
 "nbformat": 4,
 "nbformat_minor": 2
}
