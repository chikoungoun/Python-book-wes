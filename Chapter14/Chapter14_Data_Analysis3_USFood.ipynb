{
 "cells": [
  {
   "cell_type": "code",
   "execution_count": 2,
   "metadata": {},
   "outputs": [],
   "source": [
    "import pandas as pd\n",
    "import numpy as np\n",
    "import matplotlib.pyplot as plt\n",
    "%matplotlib inline"
   ]
  },
  {
   "cell_type": "markdown",
   "metadata": {},
   "source": [
    "# 14.4 USDA Food Database"
   ]
  },
  {
   "cell_type": "code",
   "execution_count": 3,
   "metadata": {},
   "outputs": [],
   "source": [
    "#importer les données JSON"
   ]
  },
  {
   "cell_type": "code",
   "execution_count": 4,
   "metadata": {},
   "outputs": [],
   "source": [
    "import json"
   ]
  },
  {
   "cell_type": "code",
   "execution_count": null,
   "metadata": {},
   "outputs": [],
   "source": []
  },
  {
   "cell_type": "code",
   "execution_count": 5,
   "metadata": {},
   "outputs": [],
   "source": [
    "db = json.load(open('Datasets/Wesm/USDA_Food/database.json'))"
   ]
  },
  {
   "cell_type": "code",
   "execution_count": 6,
   "metadata": {},
   "outputs": [
    {
     "data": {
      "text/plain": [
       "list"
      ]
     },
     "execution_count": 6,
     "metadata": {},
     "output_type": "execute_result"
    }
   ],
   "source": [
    "type(db)"
   ]
  },
  {
   "cell_type": "code",
   "execution_count": 7,
   "metadata": {},
   "outputs": [
    {
     "data": {
      "text/plain": [
       "6636"
      ]
     },
     "execution_count": 7,
     "metadata": {},
     "output_type": "execute_result"
    }
   ],
   "source": [
    "len(db)"
   ]
  },
  {
   "cell_type": "code",
   "execution_count": 8,
   "metadata": {},
   "outputs": [],
   "source": [
    "#chaque entrée dans db repésente un 'dict' d'un simple aliment"
   ]
  },
  {
   "cell_type": "code",
   "execution_count": null,
   "metadata": {},
   "outputs": [],
   "source": []
  },
  {
   "cell_type": "code",
   "execution_count": 9,
   "metadata": {},
   "outputs": [
    {
     "data": {
      "text/plain": [
       "{'description': 'Cheese, caraway',\n",
       " 'group': 'Dairy and Egg Products',\n",
       " 'id': 1008,\n",
       " 'manufacturer': '',\n",
       " 'nutrients': [{'description': 'Protein',\n",
       "   'group': 'Composition',\n",
       "   'units': 'g',\n",
       "   'value': 25.18},\n",
       "  {'description': 'Total lipid (fat)',\n",
       "   'group': 'Composition',\n",
       "   'units': 'g',\n",
       "   'value': 29.2},\n",
       "  {'description': 'Carbohydrate, by difference',\n",
       "   'group': 'Composition',\n",
       "   'units': 'g',\n",
       "   'value': 3.06},\n",
       "  {'description': 'Ash', 'group': 'Other', 'units': 'g', 'value': 3.28},\n",
       "  {'description': 'Energy',\n",
       "   'group': 'Energy',\n",
       "   'units': 'kcal',\n",
       "   'value': 376.0},\n",
       "  {'description': 'Water',\n",
       "   'group': 'Composition',\n",
       "   'units': 'g',\n",
       "   'value': 39.28},\n",
       "  {'description': 'Energy', 'group': 'Energy', 'units': 'kJ', 'value': 1573.0},\n",
       "  {'description': 'Fiber, total dietary',\n",
       "   'group': 'Composition',\n",
       "   'units': 'g',\n",
       "   'value': 0.0},\n",
       "  {'description': 'Calcium, Ca',\n",
       "   'group': 'Elements',\n",
       "   'units': 'mg',\n",
       "   'value': 673.0},\n",
       "  {'description': 'Iron, Fe',\n",
       "   'group': 'Elements',\n",
       "   'units': 'mg',\n",
       "   'value': 0.64},\n",
       "  {'description': 'Magnesium, Mg',\n",
       "   'group': 'Elements',\n",
       "   'units': 'mg',\n",
       "   'value': 22.0},\n",
       "  {'description': 'Phosphorus, P',\n",
       "   'group': 'Elements',\n",
       "   'units': 'mg',\n",
       "   'value': 490.0},\n",
       "  {'description': 'Potassium, K',\n",
       "   'group': 'Elements',\n",
       "   'units': 'mg',\n",
       "   'value': 93.0},\n",
       "  {'description': 'Sodium, Na',\n",
       "   'group': 'Elements',\n",
       "   'units': 'mg',\n",
       "   'value': 690.0},\n",
       "  {'description': 'Zinc, Zn',\n",
       "   'group': 'Elements',\n",
       "   'units': 'mg',\n",
       "   'value': 2.94},\n",
       "  {'description': 'Copper, Cu',\n",
       "   'group': 'Elements',\n",
       "   'units': 'mg',\n",
       "   'value': 0.024},\n",
       "  {'description': 'Manganese, Mn',\n",
       "   'group': 'Elements',\n",
       "   'units': 'mg',\n",
       "   'value': 0.021},\n",
       "  {'description': 'Selenium, Se',\n",
       "   'group': 'Elements',\n",
       "   'units': 'mcg',\n",
       "   'value': 14.5},\n",
       "  {'description': 'Vitamin A, IU',\n",
       "   'group': 'Vitamins',\n",
       "   'units': 'IU',\n",
       "   'value': 1054.0},\n",
       "  {'description': 'Retinol',\n",
       "   'group': 'Vitamins',\n",
       "   'units': 'mcg',\n",
       "   'value': 262.0},\n",
       "  {'description': 'Vitamin A, RAE',\n",
       "   'group': 'Vitamins',\n",
       "   'units': 'mcg_RAE',\n",
       "   'value': 271.0},\n",
       "  {'description': 'Vitamin C, total ascorbic acid',\n",
       "   'group': 'Vitamins',\n",
       "   'units': 'mg',\n",
       "   'value': 0.0},\n",
       "  {'description': 'Thiamin',\n",
       "   'group': 'Vitamins',\n",
       "   'units': 'mg',\n",
       "   'value': 0.031},\n",
       "  {'description': 'Riboflavin',\n",
       "   'group': 'Vitamins',\n",
       "   'units': 'mg',\n",
       "   'value': 0.45},\n",
       "  {'description': 'Niacin', 'group': 'Vitamins', 'units': 'mg', 'value': 0.18},\n",
       "  {'description': 'Pantothenic acid',\n",
       "   'group': 'Vitamins',\n",
       "   'units': 'mg',\n",
       "   'value': 0.19},\n",
       "  {'description': 'Vitamin B-6',\n",
       "   'group': 'Vitamins',\n",
       "   'units': 'mg',\n",
       "   'value': 0.074},\n",
       "  {'description': 'Folate, total',\n",
       "   'group': 'Vitamins',\n",
       "   'units': 'mcg',\n",
       "   'value': 18.0},\n",
       "  {'description': 'Vitamin B-12',\n",
       "   'group': 'Vitamins',\n",
       "   'units': 'mcg',\n",
       "   'value': 0.27},\n",
       "  {'description': 'Folic acid',\n",
       "   'group': 'Vitamins',\n",
       "   'units': 'mcg',\n",
       "   'value': 0.0},\n",
       "  {'description': 'Folate, food',\n",
       "   'group': 'Vitamins',\n",
       "   'units': 'mcg',\n",
       "   'value': 18.0},\n",
       "  {'description': 'Folate, DFE',\n",
       "   'group': 'Vitamins',\n",
       "   'units': 'mcg_DFE',\n",
       "   'value': 18.0},\n",
       "  {'description': 'Cholesterol',\n",
       "   'group': 'Other',\n",
       "   'units': 'mg',\n",
       "   'value': 93.0},\n",
       "  {'description': 'Fatty acids, total saturated',\n",
       "   'group': 'Other',\n",
       "   'units': 'g',\n",
       "   'value': 18.584},\n",
       "  {'description': 'Fatty acids, total monounsaturated',\n",
       "   'group': 'Other',\n",
       "   'units': 'g',\n",
       "   'value': 8.275},\n",
       "  {'description': 'Fatty acids, total polyunsaturated',\n",
       "   'group': 'Other',\n",
       "   'units': 'g',\n",
       "   'value': 0.83},\n",
       "  {'description': 'Tryptophan',\n",
       "   'group': 'Amino Acids',\n",
       "   'units': 'g',\n",
       "   'value': 0.324},\n",
       "  {'description': 'Threonine',\n",
       "   'group': 'Amino Acids',\n",
       "   'units': 'g',\n",
       "   'value': 0.896},\n",
       "  {'description': 'Isoleucine',\n",
       "   'group': 'Amino Acids',\n",
       "   'units': 'g',\n",
       "   'value': 1.563},\n",
       "  {'description': 'Leucine',\n",
       "   'group': 'Amino Acids',\n",
       "   'units': 'g',\n",
       "   'value': 2.412},\n",
       "  {'description': 'Lysine',\n",
       "   'group': 'Amino Acids',\n",
       "   'units': 'g',\n",
       "   'value': 2.095},\n",
       "  {'description': 'Methionine',\n",
       "   'group': 'Amino Acids',\n",
       "   'units': 'g',\n",
       "   'value': 0.659},\n",
       "  {'description': 'Cystine',\n",
       "   'group': 'Amino Acids',\n",
       "   'units': 'g',\n",
       "   'value': 0.126},\n",
       "  {'description': 'Phenylalanine',\n",
       "   'group': 'Amino Acids',\n",
       "   'units': 'g',\n",
       "   'value': 1.326},\n",
       "  {'description': 'Tyrosine',\n",
       "   'group': 'Amino Acids',\n",
       "   'units': 'g',\n",
       "   'value': 1.216},\n",
       "  {'description': 'Valine',\n",
       "   'group': 'Amino Acids',\n",
       "   'units': 'g',\n",
       "   'value': 1.682},\n",
       "  {'description': 'Arginine',\n",
       "   'group': 'Amino Acids',\n",
       "   'units': 'g',\n",
       "   'value': 0.952},\n",
       "  {'description': 'Histidine',\n",
       "   'group': 'Amino Acids',\n",
       "   'units': 'g',\n",
       "   'value': 0.884},\n",
       "  {'description': 'Alanine',\n",
       "   'group': 'Amino Acids',\n",
       "   'units': 'g',\n",
       "   'value': 0.711},\n",
       "  {'description': 'Aspartic acid',\n",
       "   'group': 'Amino Acids',\n",
       "   'units': 'g',\n",
       "   'value': 1.618},\n",
       "  {'description': 'Glutamic acid',\n",
       "   'group': 'Amino Acids',\n",
       "   'units': 'g',\n",
       "   'value': 6.16},\n",
       "  {'description': 'Glycine',\n",
       "   'group': 'Amino Acids',\n",
       "   'units': 'g',\n",
       "   'value': 0.439},\n",
       "  {'description': 'Proline',\n",
       "   'group': 'Amino Acids',\n",
       "   'units': 'g',\n",
       "   'value': 2.838},\n",
       "  {'description': 'Serine',\n",
       "   'group': 'Amino Acids',\n",
       "   'units': 'g',\n",
       "   'value': 1.472},\n",
       "  {'description': 'Protein',\n",
       "   'group': 'Composition',\n",
       "   'units': 'g',\n",
       "   'value': 25.18},\n",
       "  {'description': 'Total lipid (fat)',\n",
       "   'group': 'Composition',\n",
       "   'units': 'g',\n",
       "   'value': 29.2},\n",
       "  {'description': 'Carbohydrate, by difference',\n",
       "   'group': 'Composition',\n",
       "   'units': 'g',\n",
       "   'value': 3.06},\n",
       "  {'description': 'Ash', 'group': 'Other', 'units': 'g', 'value': 3.28},\n",
       "  {'description': 'Energy',\n",
       "   'group': 'Energy',\n",
       "   'units': 'kcal',\n",
       "   'value': 376.0},\n",
       "  {'description': 'Water',\n",
       "   'group': 'Composition',\n",
       "   'units': 'g',\n",
       "   'value': 39.28},\n",
       "  {'description': 'Energy', 'group': 'Energy', 'units': 'kJ', 'value': 1573.0},\n",
       "  {'description': 'Fiber, total dietary',\n",
       "   'group': 'Composition',\n",
       "   'units': 'g',\n",
       "   'value': 0.0},\n",
       "  {'description': 'Calcium, Ca',\n",
       "   'group': 'Elements',\n",
       "   'units': 'mg',\n",
       "   'value': 673.0},\n",
       "  {'description': 'Iron, Fe',\n",
       "   'group': 'Elements',\n",
       "   'units': 'mg',\n",
       "   'value': 0.64},\n",
       "  {'description': 'Magnesium, Mg',\n",
       "   'group': 'Elements',\n",
       "   'units': 'mg',\n",
       "   'value': 22.0},\n",
       "  {'description': 'Phosphorus, P',\n",
       "   'group': 'Elements',\n",
       "   'units': 'mg',\n",
       "   'value': 490.0},\n",
       "  {'description': 'Potassium, K',\n",
       "   'group': 'Elements',\n",
       "   'units': 'mg',\n",
       "   'value': 93.0},\n",
       "  {'description': 'Sodium, Na',\n",
       "   'group': 'Elements',\n",
       "   'units': 'mg',\n",
       "   'value': 690.0},\n",
       "  {'description': 'Zinc, Zn',\n",
       "   'group': 'Elements',\n",
       "   'units': 'mg',\n",
       "   'value': 2.94},\n",
       "  {'description': 'Copper, Cu',\n",
       "   'group': 'Elements',\n",
       "   'units': 'mg',\n",
       "   'value': 0.024},\n",
       "  {'description': 'Manganese, Mn',\n",
       "   'group': 'Elements',\n",
       "   'units': 'mg',\n",
       "   'value': 0.021},\n",
       "  {'description': 'Selenium, Se',\n",
       "   'group': 'Elements',\n",
       "   'units': 'mcg',\n",
       "   'value': 14.5},\n",
       "  {'description': 'Vitamin A, IU',\n",
       "   'group': 'Vitamins',\n",
       "   'units': 'IU',\n",
       "   'value': 1054.0},\n",
       "  {'description': 'Retinol',\n",
       "   'group': 'Vitamins',\n",
       "   'units': 'mcg',\n",
       "   'value': 262.0},\n",
       "  {'description': 'Vitamin A, RAE',\n",
       "   'group': 'Vitamins',\n",
       "   'units': 'mcg_RAE',\n",
       "   'value': 271.0},\n",
       "  {'description': 'Vitamin C, total ascorbic acid',\n",
       "   'group': 'Vitamins',\n",
       "   'units': 'mg',\n",
       "   'value': 0.0},\n",
       "  {'description': 'Thiamin',\n",
       "   'group': 'Vitamins',\n",
       "   'units': 'mg',\n",
       "   'value': 0.031},\n",
       "  {'description': 'Riboflavin',\n",
       "   'group': 'Vitamins',\n",
       "   'units': 'mg',\n",
       "   'value': 0.45},\n",
       "  {'description': 'Niacin', 'group': 'Vitamins', 'units': 'mg', 'value': 0.18},\n",
       "  {'description': 'Pantothenic acid',\n",
       "   'group': 'Vitamins',\n",
       "   'units': 'mg',\n",
       "   'value': 0.19},\n",
       "  {'description': 'Vitamin B-6',\n",
       "   'group': 'Vitamins',\n",
       "   'units': 'mg',\n",
       "   'value': 0.074},\n",
       "  {'description': 'Folate, total',\n",
       "   'group': 'Vitamins',\n",
       "   'units': 'mcg',\n",
       "   'value': 18.0},\n",
       "  {'description': 'Vitamin B-12',\n",
       "   'group': 'Vitamins',\n",
       "   'units': 'mcg',\n",
       "   'value': 0.27},\n",
       "  {'description': 'Folic acid',\n",
       "   'group': 'Vitamins',\n",
       "   'units': 'mcg',\n",
       "   'value': 0.0},\n",
       "  {'description': 'Folate, food',\n",
       "   'group': 'Vitamins',\n",
       "   'units': 'mcg',\n",
       "   'value': 18.0},\n",
       "  {'description': 'Folate, DFE',\n",
       "   'group': 'Vitamins',\n",
       "   'units': 'mcg_DFE',\n",
       "   'value': 18.0},\n",
       "  {'description': 'Tryptophan',\n",
       "   'group': 'Amino Acids',\n",
       "   'units': 'g',\n",
       "   'value': 0.324},\n",
       "  {'description': 'Threonine',\n",
       "   'group': 'Amino Acids',\n",
       "   'units': 'g',\n",
       "   'value': 0.896},\n",
       "  {'description': 'Isoleucine',\n",
       "   'group': 'Amino Acids',\n",
       "   'units': 'g',\n",
       "   'value': 1.563},\n",
       "  {'description': 'Leucine',\n",
       "   'group': 'Amino Acids',\n",
       "   'units': 'g',\n",
       "   'value': 2.412},\n",
       "  {'description': 'Lysine',\n",
       "   'group': 'Amino Acids',\n",
       "   'units': 'g',\n",
       "   'value': 2.095},\n",
       "  {'description': 'Methionine',\n",
       "   'group': 'Amino Acids',\n",
       "   'units': 'g',\n",
       "   'value': 0.659},\n",
       "  {'description': 'Cystine',\n",
       "   'group': 'Amino Acids',\n",
       "   'units': 'g',\n",
       "   'value': 0.126},\n",
       "  {'description': 'Phenylalanine',\n",
       "   'group': 'Amino Acids',\n",
       "   'units': 'g',\n",
       "   'value': 1.326},\n",
       "  {'description': 'Tyrosine',\n",
       "   'group': 'Amino Acids',\n",
       "   'units': 'g',\n",
       "   'value': 1.216},\n",
       "  {'description': 'Valine',\n",
       "   'group': 'Amino Acids',\n",
       "   'units': 'g',\n",
       "   'value': 1.682},\n",
       "  {'description': 'Arginine',\n",
       "   'group': 'Amino Acids',\n",
       "   'units': 'g',\n",
       "   'value': 0.952},\n",
       "  {'description': 'Histidine',\n",
       "   'group': 'Amino Acids',\n",
       "   'units': 'g',\n",
       "   'value': 0.884},\n",
       "  {'description': 'Alanine',\n",
       "   'group': 'Amino Acids',\n",
       "   'units': 'g',\n",
       "   'value': 0.711},\n",
       "  {'description': 'Aspartic acid',\n",
       "   'group': 'Amino Acids',\n",
       "   'units': 'g',\n",
       "   'value': 1.618},\n",
       "  {'description': 'Glutamic acid',\n",
       "   'group': 'Amino Acids',\n",
       "   'units': 'g',\n",
       "   'value': 6.16},\n",
       "  {'description': 'Glycine',\n",
       "   'group': 'Amino Acids',\n",
       "   'units': 'g',\n",
       "   'value': 0.439},\n",
       "  {'description': 'Proline',\n",
       "   'group': 'Amino Acids',\n",
       "   'units': 'g',\n",
       "   'value': 2.838},\n",
       "  {'description': 'Serine',\n",
       "   'group': 'Amino Acids',\n",
       "   'units': 'g',\n",
       "   'value': 1.472},\n",
       "  {'description': 'Cholesterol',\n",
       "   'group': 'Other',\n",
       "   'units': 'mg',\n",
       "   'value': 93.0},\n",
       "  {'description': 'Fatty acids, total saturated',\n",
       "   'group': 'Other',\n",
       "   'units': 'g',\n",
       "   'value': 18.584},\n",
       "  {'description': 'Fatty acids, total monounsaturated',\n",
       "   'group': 'Other',\n",
       "   'units': 'g',\n",
       "   'value': 8.275},\n",
       "  {'description': 'Fatty acids, total polyunsaturated',\n",
       "   'group': 'Other',\n",
       "   'units': 'g',\n",
       "   'value': 0.83},\n",
       "  {'description': 'Protein',\n",
       "   'group': 'Composition',\n",
       "   'units': 'g',\n",
       "   'value': 25.18},\n",
       "  {'description': 'Total lipid (fat)',\n",
       "   'group': 'Composition',\n",
       "   'units': 'g',\n",
       "   'value': 29.2},\n",
       "  {'description': 'Carbohydrate, by difference',\n",
       "   'group': 'Composition',\n",
       "   'units': 'g',\n",
       "   'value': 3.06},\n",
       "  {'description': 'Ash', 'group': 'Other', 'units': 'g', 'value': 3.28},\n",
       "  {'description': 'Energy',\n",
       "   'group': 'Energy',\n",
       "   'units': 'kcal',\n",
       "   'value': 376.0},\n",
       "  {'description': 'Water',\n",
       "   'group': 'Composition',\n",
       "   'units': 'g',\n",
       "   'value': 39.28},\n",
       "  {'description': 'Energy', 'group': 'Energy', 'units': 'kJ', 'value': 1573.0},\n",
       "  {'description': 'Fiber, total dietary',\n",
       "   'group': 'Composition',\n",
       "   'units': 'g',\n",
       "   'value': 0.0},\n",
       "  {'description': 'Calcium, Ca',\n",
       "   'group': 'Elements',\n",
       "   'units': 'mg',\n",
       "   'value': 673.0},\n",
       "  {'description': 'Iron, Fe',\n",
       "   'group': 'Elements',\n",
       "   'units': 'mg',\n",
       "   'value': 0.64},\n",
       "  {'description': 'Magnesium, Mg',\n",
       "   'group': 'Elements',\n",
       "   'units': 'mg',\n",
       "   'value': 22.0},\n",
       "  {'description': 'Phosphorus, P',\n",
       "   'group': 'Elements',\n",
       "   'units': 'mg',\n",
       "   'value': 490.0},\n",
       "  {'description': 'Potassium, K',\n",
       "   'group': 'Elements',\n",
       "   'units': 'mg',\n",
       "   'value': 93.0},\n",
       "  {'description': 'Sodium, Na',\n",
       "   'group': 'Elements',\n",
       "   'units': 'mg',\n",
       "   'value': 690.0},\n",
       "  {'description': 'Zinc, Zn',\n",
       "   'group': 'Elements',\n",
       "   'units': 'mg',\n",
       "   'value': 2.94},\n",
       "  {'description': 'Copper, Cu',\n",
       "   'group': 'Elements',\n",
       "   'units': 'mg',\n",
       "   'value': 0.024},\n",
       "  {'description': 'Manganese, Mn',\n",
       "   'group': 'Elements',\n",
       "   'units': 'mg',\n",
       "   'value': 0.021},\n",
       "  {'description': 'Selenium, Se',\n",
       "   'group': 'Elements',\n",
       "   'units': 'mcg',\n",
       "   'value': 14.5},\n",
       "  {'description': 'Vitamin A, IU',\n",
       "   'group': 'Vitamins',\n",
       "   'units': 'IU',\n",
       "   'value': 1054.0},\n",
       "  {'description': 'Retinol',\n",
       "   'group': 'Vitamins',\n",
       "   'units': 'mcg',\n",
       "   'value': 262.0},\n",
       "  {'description': 'Vitamin A, RAE',\n",
       "   'group': 'Vitamins',\n",
       "   'units': 'mcg_RAE',\n",
       "   'value': 271.0},\n",
       "  {'description': 'Vitamin C, total ascorbic acid',\n",
       "   'group': 'Vitamins',\n",
       "   'units': 'mg',\n",
       "   'value': 0.0},\n",
       "  {'description': 'Thiamin',\n",
       "   'group': 'Vitamins',\n",
       "   'units': 'mg',\n",
       "   'value': 0.031},\n",
       "  {'description': 'Riboflavin',\n",
       "   'group': 'Vitamins',\n",
       "   'units': 'mg',\n",
       "   'value': 0.45},\n",
       "  {'description': 'Niacin', 'group': 'Vitamins', 'units': 'mg', 'value': 0.18},\n",
       "  {'description': 'Pantothenic acid',\n",
       "   'group': 'Vitamins',\n",
       "   'units': 'mg',\n",
       "   'value': 0.19},\n",
       "  {'description': 'Vitamin B-6',\n",
       "   'group': 'Vitamins',\n",
       "   'units': 'mg',\n",
       "   'value': 0.074},\n",
       "  {'description': 'Folate, total',\n",
       "   'group': 'Vitamins',\n",
       "   'units': 'mcg',\n",
       "   'value': 18.0},\n",
       "  {'description': 'Vitamin B-12',\n",
       "   'group': 'Vitamins',\n",
       "   'units': 'mcg',\n",
       "   'value': 0.27},\n",
       "  {'description': 'Folic acid',\n",
       "   'group': 'Vitamins',\n",
       "   'units': 'mcg',\n",
       "   'value': 0.0},\n",
       "  {'description': 'Folate, food',\n",
       "   'group': 'Vitamins',\n",
       "   'units': 'mcg',\n",
       "   'value': 18.0},\n",
       "  {'description': 'Folate, DFE',\n",
       "   'group': 'Vitamins',\n",
       "   'units': 'mcg_DFE',\n",
       "   'value': 18.0},\n",
       "  {'description': 'Tryptophan',\n",
       "   'group': 'Amino Acids',\n",
       "   'units': 'g',\n",
       "   'value': 0.324},\n",
       "  {'description': 'Threonine',\n",
       "   'group': 'Amino Acids',\n",
       "   'units': 'g',\n",
       "   'value': 0.896},\n",
       "  {'description': 'Isoleucine',\n",
       "   'group': 'Amino Acids',\n",
       "   'units': 'g',\n",
       "   'value': 1.563},\n",
       "  {'description': 'Leucine',\n",
       "   'group': 'Amino Acids',\n",
       "   'units': 'g',\n",
       "   'value': 2.412},\n",
       "  {'description': 'Lysine',\n",
       "   'group': 'Amino Acids',\n",
       "   'units': 'g',\n",
       "   'value': 2.095},\n",
       "  {'description': 'Methionine',\n",
       "   'group': 'Amino Acids',\n",
       "   'units': 'g',\n",
       "   'value': 0.659},\n",
       "  {'description': 'Cystine',\n",
       "   'group': 'Amino Acids',\n",
       "   'units': 'g',\n",
       "   'value': 0.126},\n",
       "  {'description': 'Phenylalanine',\n",
       "   'group': 'Amino Acids',\n",
       "   'units': 'g',\n",
       "   'value': 1.326},\n",
       "  {'description': 'Tyrosine',\n",
       "   'group': 'Amino Acids',\n",
       "   'units': 'g',\n",
       "   'value': 1.216},\n",
       "  {'description': 'Valine',\n",
       "   'group': 'Amino Acids',\n",
       "   'units': 'g',\n",
       "   'value': 1.682},\n",
       "  {'description': 'Arginine',\n",
       "   'group': 'Amino Acids',\n",
       "   'units': 'g',\n",
       "   'value': 0.952},\n",
       "  {'description': 'Histidine',\n",
       "   'group': 'Amino Acids',\n",
       "   'units': 'g',\n",
       "   'value': 0.884},\n",
       "  {'description': 'Alanine',\n",
       "   'group': 'Amino Acids',\n",
       "   'units': 'g',\n",
       "   'value': 0.711},\n",
       "  {'description': 'Aspartic acid',\n",
       "   'group': 'Amino Acids',\n",
       "   'units': 'g',\n",
       "   'value': 1.618},\n",
       "  {'description': 'Glutamic acid',\n",
       "   'group': 'Amino Acids',\n",
       "   'units': 'g',\n",
       "   'value': 6.16},\n",
       "  {'description': 'Glycine',\n",
       "   'group': 'Amino Acids',\n",
       "   'units': 'g',\n",
       "   'value': 0.439},\n",
       "  {'description': 'Proline',\n",
       "   'group': 'Amino Acids',\n",
       "   'units': 'g',\n",
       "   'value': 2.838},\n",
       "  {'description': 'Serine',\n",
       "   'group': 'Amino Acids',\n",
       "   'units': 'g',\n",
       "   'value': 1.472},\n",
       "  {'description': 'Cholesterol',\n",
       "   'group': 'Other',\n",
       "   'units': 'mg',\n",
       "   'value': 93.0},\n",
       "  {'description': 'Fatty acids, total saturated',\n",
       "   'group': 'Other',\n",
       "   'units': 'g',\n",
       "   'value': 18.584},\n",
       "  {'description': 'Fatty acids, total monounsaturated',\n",
       "   'group': 'Other',\n",
       "   'units': 'g',\n",
       "   'value': 8.275},\n",
       "  {'description': 'Fatty acids, total polyunsaturated',\n",
       "   'group': 'Other',\n",
       "   'units': 'g',\n",
       "   'value': 0.83}],\n",
       " 'portions': [{'amount': 1, 'grams': 28.35, 'unit': 'oz'}],\n",
       " 'tags': []}"
      ]
     },
     "execution_count": 9,
     "metadata": {},
     "output_type": "execute_result"
    }
   ],
   "source": [
    "db[0]"
   ]
  },
  {
   "cell_type": "code",
   "execution_count": 10,
   "metadata": {},
   "outputs": [
    {
     "data": {
      "text/plain": [
       "{'description': 'Protein',\n",
       " 'group': 'Composition',\n",
       " 'units': 'g',\n",
       " 'value': 25.18}"
      ]
     },
     "execution_count": 10,
     "metadata": {},
     "output_type": "execute_result"
    }
   ],
   "source": [
    "db[0]['nutrients'][0]"
   ]
  },
  {
   "cell_type": "code",
   "execution_count": 11,
   "metadata": {},
   "outputs": [],
   "source": [
    "#on extrait les nutrients"
   ]
  },
  {
   "cell_type": "code",
   "execution_count": 12,
   "metadata": {},
   "outputs": [],
   "source": [
    "nutrients = pd.DataFrame(db[0]['nutrients'])"
   ]
  },
  {
   "cell_type": "code",
   "execution_count": 13,
   "metadata": {},
   "outputs": [
    {
     "data": {
      "text/html": [
       "<div>\n",
       "<style>\n",
       "    .dataframe thead tr:only-child th {\n",
       "        text-align: right;\n",
       "    }\n",
       "\n",
       "    .dataframe thead th {\n",
       "        text-align: left;\n",
       "    }\n",
       "\n",
       "    .dataframe tbody tr th {\n",
       "        vertical-align: top;\n",
       "    }\n",
       "</style>\n",
       "<table border=\"1\" class=\"dataframe\">\n",
       "  <thead>\n",
       "    <tr style=\"text-align: right;\">\n",
       "      <th></th>\n",
       "      <th>description</th>\n",
       "      <th>group</th>\n",
       "      <th>units</th>\n",
       "      <th>value</th>\n",
       "    </tr>\n",
       "  </thead>\n",
       "  <tbody>\n",
       "    <tr>\n",
       "      <th>0</th>\n",
       "      <td>Protein</td>\n",
       "      <td>Composition</td>\n",
       "      <td>g</td>\n",
       "      <td>25.18</td>\n",
       "    </tr>\n",
       "    <tr>\n",
       "      <th>1</th>\n",
       "      <td>Total lipid (fat)</td>\n",
       "      <td>Composition</td>\n",
       "      <td>g</td>\n",
       "      <td>29.20</td>\n",
       "    </tr>\n",
       "    <tr>\n",
       "      <th>2</th>\n",
       "      <td>Carbohydrate, by difference</td>\n",
       "      <td>Composition</td>\n",
       "      <td>g</td>\n",
       "      <td>3.06</td>\n",
       "    </tr>\n",
       "    <tr>\n",
       "      <th>3</th>\n",
       "      <td>Ash</td>\n",
       "      <td>Other</td>\n",
       "      <td>g</td>\n",
       "      <td>3.28</td>\n",
       "    </tr>\n",
       "    <tr>\n",
       "      <th>4</th>\n",
       "      <td>Energy</td>\n",
       "      <td>Energy</td>\n",
       "      <td>kcal</td>\n",
       "      <td>376.00</td>\n",
       "    </tr>\n",
       "    <tr>\n",
       "      <th>5</th>\n",
       "      <td>Water</td>\n",
       "      <td>Composition</td>\n",
       "      <td>g</td>\n",
       "      <td>39.28</td>\n",
       "    </tr>\n",
       "    <tr>\n",
       "      <th>6</th>\n",
       "      <td>Energy</td>\n",
       "      <td>Energy</td>\n",
       "      <td>kJ</td>\n",
       "      <td>1573.00</td>\n",
       "    </tr>\n",
       "  </tbody>\n",
       "</table>\n",
       "</div>"
      ],
      "text/plain": [
       "                   description        group units    value\n",
       "0                      Protein  Composition     g    25.18\n",
       "1            Total lipid (fat)  Composition     g    29.20\n",
       "2  Carbohydrate, by difference  Composition     g     3.06\n",
       "3                          Ash        Other     g     3.28\n",
       "4                       Energy       Energy  kcal   376.00\n",
       "5                        Water  Composition     g    39.28\n",
       "6                       Energy       Energy    kJ  1573.00"
      ]
     },
     "execution_count": 13,
     "metadata": {},
     "output_type": "execute_result"
    }
   ],
   "source": [
    "nutrients[:7]"
   ]
  },
  {
   "cell_type": "code",
   "execution_count": 14,
   "metadata": {},
   "outputs": [
    {
     "name": "stdout",
     "output_type": "stream",
     "text": [
      "<class 'pandas.core.frame.DataFrame'>\n",
      "RangeIndex: 162 entries, 0 to 161\n",
      "Data columns (total 4 columns):\n",
      "description    162 non-null object\n",
      "group          162 non-null object\n",
      "units          162 non-null object\n",
      "value          162 non-null float64\n",
      "dtypes: float64(1), object(3)\n",
      "memory usage: 3.2+ KB\n"
     ]
    }
   ],
   "source": [
    "nutrients.info()"
   ]
  },
  {
   "cell_type": "code",
   "execution_count": 15,
   "metadata": {},
   "outputs": [],
   "source": [
    "#spécifier les noms des colonnes pour toute la database"
   ]
  },
  {
   "cell_type": "code",
   "execution_count": 16,
   "metadata": {},
   "outputs": [],
   "source": [
    "info_keys = ['description','group','id','manufacturer']"
   ]
  },
  {
   "cell_type": "code",
   "execution_count": 17,
   "metadata": {},
   "outputs": [],
   "source": [
    "info = pd.DataFrame(db, columns=info_keys)"
   ]
  },
  {
   "cell_type": "code",
   "execution_count": 18,
   "metadata": {},
   "outputs": [
    {
     "data": {
      "text/html": [
       "<div>\n",
       "<style>\n",
       "    .dataframe thead tr:only-child th {\n",
       "        text-align: right;\n",
       "    }\n",
       "\n",
       "    .dataframe thead th {\n",
       "        text-align: left;\n",
       "    }\n",
       "\n",
       "    .dataframe tbody tr th {\n",
       "        vertical-align: top;\n",
       "    }\n",
       "</style>\n",
       "<table border=\"1\" class=\"dataframe\">\n",
       "  <thead>\n",
       "    <tr style=\"text-align: right;\">\n",
       "      <th></th>\n",
       "      <th>description</th>\n",
       "      <th>group</th>\n",
       "      <th>id</th>\n",
       "      <th>manufacturer</th>\n",
       "    </tr>\n",
       "  </thead>\n",
       "  <tbody>\n",
       "    <tr>\n",
       "      <th>0</th>\n",
       "      <td>Cheese, caraway</td>\n",
       "      <td>Dairy and Egg Products</td>\n",
       "      <td>1008</td>\n",
       "      <td></td>\n",
       "    </tr>\n",
       "    <tr>\n",
       "      <th>1</th>\n",
       "      <td>Cheese, cheddar</td>\n",
       "      <td>Dairy and Egg Products</td>\n",
       "      <td>1009</td>\n",
       "      <td></td>\n",
       "    </tr>\n",
       "    <tr>\n",
       "      <th>2</th>\n",
       "      <td>Cheese, edam</td>\n",
       "      <td>Dairy and Egg Products</td>\n",
       "      <td>1018</td>\n",
       "      <td></td>\n",
       "    </tr>\n",
       "    <tr>\n",
       "      <th>3</th>\n",
       "      <td>Cheese, feta</td>\n",
       "      <td>Dairy and Egg Products</td>\n",
       "      <td>1019</td>\n",
       "      <td></td>\n",
       "    </tr>\n",
       "    <tr>\n",
       "      <th>4</th>\n",
       "      <td>Cheese, mozzarella, part skim milk</td>\n",
       "      <td>Dairy and Egg Products</td>\n",
       "      <td>1028</td>\n",
       "      <td></td>\n",
       "    </tr>\n",
       "  </tbody>\n",
       "</table>\n",
       "</div>"
      ],
      "text/plain": [
       "                          description                   group    id  \\\n",
       "0                     Cheese, caraway  Dairy and Egg Products  1008   \n",
       "1                     Cheese, cheddar  Dairy and Egg Products  1009   \n",
       "2                        Cheese, edam  Dairy and Egg Products  1018   \n",
       "3                        Cheese, feta  Dairy and Egg Products  1019   \n",
       "4  Cheese, mozzarella, part skim milk  Dairy and Egg Products  1028   \n",
       "\n",
       "  manufacturer  \n",
       "0               \n",
       "1               \n",
       "2               \n",
       "3               \n",
       "4               "
      ]
     },
     "execution_count": 18,
     "metadata": {},
     "output_type": "execute_result"
    }
   ],
   "source": [
    "info.head()"
   ]
  },
  {
   "cell_type": "code",
   "execution_count": 19,
   "metadata": {},
   "outputs": [
    {
     "name": "stdout",
     "output_type": "stream",
     "text": [
      "<class 'pandas.core.frame.DataFrame'>\n",
      "RangeIndex: 6636 entries, 0 to 6635\n",
      "Data columns (total 4 columns):\n",
      "description     6636 non-null object\n",
      "group           6636 non-null object\n",
      "id              6636 non-null int64\n",
      "manufacturer    5195 non-null object\n",
      "dtypes: int64(1), object(3)\n",
      "memory usage: 129.6+ KB\n"
     ]
    }
   ],
   "source": [
    "info.info()"
   ]
  },
  {
   "cell_type": "code",
   "execution_count": 20,
   "metadata": {},
   "outputs": [],
   "source": [
    "#distribution des groupes de nourriture"
   ]
  },
  {
   "cell_type": "code",
   "execution_count": 21,
   "metadata": {},
   "outputs": [
    {
     "data": {
      "text/plain": [
       "Vegetables and Vegetable Products    812\n",
       "Beef Products                        618\n",
       "Baked Products                       496\n",
       "Breakfast Cereals                    403\n",
       "Fast Foods                           365\n",
       "Legumes and Legume Products          365\n",
       "Lamb, Veal, and Game Products        345\n",
       "Sweets                               341\n",
       "Pork Products                        328\n",
       "Fruits and Fruit Juices              328\n",
       "Beverages                            278\n",
       "Soups, Sauces, and Gravies           275\n",
       "Finfish and Shellfish Products       255\n",
       "Baby Foods                           209\n",
       "Cereal Grains and Pasta              183\n",
       "Ethnic Foods                         165\n",
       "Snacks                               162\n",
       "Nut and Seed Products                128\n",
       "Poultry Products                     116\n",
       "Sausages and Luncheon Meats          111\n",
       "Dairy and Egg Products               107\n",
       "Fats and Oils                         97\n",
       "Meals, Entrees, and Sidedishes        57\n",
       "Restaurant Foods                      51\n",
       "Spices and Herbs                      41\n",
       "Name: group, dtype: int64"
      ]
     },
     "execution_count": 21,
     "metadata": {},
     "output_type": "execute_result"
    }
   ],
   "source": [
    "info['group'].value_counts()"
   ]
  },
  {
   "cell_type": "code",
   "execution_count": 22,
   "metadata": {},
   "outputs": [
    {
     "data": {
      "text/plain": [
       "' Assembler les nutriments de chaque nourriture en un seul tableau : plusieurs steps'"
      ]
     },
     "execution_count": 22,
     "metadata": {},
     "output_type": "execute_result"
    }
   ],
   "source": [
    "\"\"\" Assembler les nutriments de chaque nourriture en un seul tableau : plusieurs steps\"\"\""
   ]
  },
  {
   "cell_type": "code",
   "execution_count": 23,
   "metadata": {},
   "outputs": [],
   "source": [
    "nutrients = []\n",
    "\n",
    "for rec in db:\n",
    "    fnuts = pd.DataFrame(rec['nutrients'])\n",
    "    fnuts['id'] = rec['id']\n",
    "    nutrients.append(fnuts)\n",
    "\n",
    "nutrients = pd.concat(nutrients, ignore_index=True)"
   ]
  },
  {
   "cell_type": "code",
   "execution_count": 24,
   "metadata": {},
   "outputs": [],
   "source": [
    "#retirer les duplicats"
   ]
  },
  {
   "cell_type": "code",
   "execution_count": 25,
   "metadata": {},
   "outputs": [
    {
     "data": {
      "text/plain": [
       "14179"
      ]
     },
     "execution_count": 25,
     "metadata": {},
     "output_type": "execute_result"
    }
   ],
   "source": [
    "nutrients.duplicated().sum()"
   ]
  },
  {
   "cell_type": "code",
   "execution_count": 26,
   "metadata": {},
   "outputs": [],
   "source": [
    "nutrients = nutrients.drop_duplicates()"
   ]
  },
  {
   "cell_type": "code",
   "execution_count": 27,
   "metadata": {},
   "outputs": [],
   "source": [
    "#renamer les 'description' et 'group' imbriqués\n",
    "col_mapping = {'description':'food','group':'fgroup'}"
   ]
  },
  {
   "cell_type": "code",
   "execution_count": 28,
   "metadata": {},
   "outputs": [],
   "source": [
    "info = info.rename(columns=col_mapping,copy=False)"
   ]
  },
  {
   "cell_type": "code",
   "execution_count": 29,
   "metadata": {},
   "outputs": [
    {
     "name": "stdout",
     "output_type": "stream",
     "text": [
      "<class 'pandas.core.frame.DataFrame'>\n",
      "RangeIndex: 6636 entries, 0 to 6635\n",
      "Data columns (total 4 columns):\n",
      "food            6636 non-null object\n",
      "fgroup          6636 non-null object\n",
      "id              6636 non-null int64\n",
      "manufacturer    5195 non-null object\n",
      "dtypes: int64(1), object(3)\n",
      "memory usage: 129.6+ KB\n"
     ]
    }
   ],
   "source": [
    "info.info()"
   ]
  },
  {
   "cell_type": "code",
   "execution_count": 30,
   "metadata": {},
   "outputs": [],
   "source": [
    "col_mapping = {'description' : 'nutrient',\n",
    "               'group' : 'nutgroup'}\n",
    "nutrients = nutrients.rename(columns=col_mapping, copy=False)"
   ]
  },
  {
   "cell_type": "code",
   "execution_count": 31,
   "metadata": {},
   "outputs": [
    {
     "data": {
      "text/plain": [
       "375176"
      ]
     },
     "execution_count": 31,
     "metadata": {},
     "output_type": "execute_result"
    }
   ],
   "source": [
    "nutrients.shape[0]"
   ]
  },
  {
   "cell_type": "code",
   "execution_count": 32,
   "metadata": {},
   "outputs": [],
   "source": [
    "ndata = pd.merge(nutrients,info,on='id',how='outer')"
   ]
  },
  {
   "cell_type": "code",
   "execution_count": 33,
   "metadata": {},
   "outputs": [
    {
     "name": "stdout",
     "output_type": "stream",
     "text": [
      "<class 'pandas.core.frame.DataFrame'>\n",
      "Int64Index: 375176 entries, 0 to 375175\n",
      "Data columns (total 8 columns):\n",
      "nutrient        375176 non-null object\n",
      "nutgroup        375176 non-null object\n",
      "units           375176 non-null object\n",
      "value           375176 non-null float64\n",
      "id              375176 non-null int64\n",
      "food            375176 non-null object\n",
      "fgroup          375176 non-null object\n",
      "manufacturer    293054 non-null object\n",
      "dtypes: float64(1), int64(1), object(6)\n",
      "memory usage: 17.2+ MB\n"
     ]
    }
   ],
   "source": [
    "ndata.info()"
   ]
  },
  {
   "cell_type": "code",
   "execution_count": 34,
   "metadata": {},
   "outputs": [
    {
     "data": {
      "text/plain": [
       "nutrient                                       Glycine\n",
       "nutgroup                                   Amino Acids\n",
       "units                                                g\n",
       "value                                             0.04\n",
       "id                                                6158\n",
       "food            Soup, tomato bisque, canned, condensed\n",
       "fgroup                      Soups, Sauces, and Gravies\n",
       "manufacturer                                          \n",
       "Name: 30000, dtype: object"
      ]
     },
     "execution_count": 34,
     "metadata": {},
     "output_type": "execute_result"
    }
   ],
   "source": [
    "ndata.iloc[30000]"
   ]
  },
  {
   "cell_type": "code",
   "execution_count": 35,
   "metadata": {},
   "outputs": [],
   "source": [
    "result = ndata.groupby(['nutrient','fgroup'])['value'].quantile(0.5)"
   ]
  },
  {
   "cell_type": "code",
   "execution_count": 36,
   "metadata": {},
   "outputs": [],
   "source": [
    "#plot des valeurs medianes par food group et nutrient type"
   ]
  },
  {
   "cell_type": "code",
   "execution_count": 38,
   "metadata": {},
   "outputs": [
    {
     "data": {
      "text/plain": [
       "<matplotlib.axes._subplots.AxesSubplot at 0x15fa4a70>"
      ]
     },
     "execution_count": 38,
     "metadata": {},
     "output_type": "execute_result"
    },
    {
     "data": {
      "image/png": "[encoded data removed]",
      "text/plain": [
       "<matplotlib.figure.Figure at 0x15f400d0>"
      ]
     },
     "metadata": {},
     "output_type": "display_data"
    }
   ],
   "source": [
    "result['Zinc, Zn'].sort_values().plot(kind='barh')"
   ]
  },
  {
   "cell_type": "code",
   "execution_count": 39,
   "metadata": {},
   "outputs": [],
   "source": [
    "#quel nutriment est plus dense dans quel aliment "
   ]
  },
  {
   "cell_type": "code",
   "execution_count": 40,
   "metadata": {},
   "outputs": [],
   "source": [
    "by_nutrient = ndata.groupby(['nutgroup', 'nutrient'])"
   ]
  },
  {
   "cell_type": "code",
   "execution_count": 41,
   "metadata": {},
   "outputs": [],
   "source": [
    "get_maximum = lambda x: x.loc[x.value.idxmax()]\n",
    "get_minimum = lambda x: x.loc[x.value.idxmin()]"
   ]
  },
  {
   "cell_type": "code",
   "execution_count": 42,
   "metadata": {},
   "outputs": [],
   "source": [
    "max_foods = by_nutrient.apply(get_maximum)[['value','food']]"
   ]
  },
  {
   "cell_type": "code",
   "execution_count": 44,
   "metadata": {},
   "outputs": [],
   "source": [
    "max_foods.food = max_foods.food.str[:50]"
   ]
  },
  {
   "cell_type": "code",
   "execution_count": 45,
   "metadata": {},
   "outputs": [
    {
     "data": {
      "text/plain": [
       "nutrient\n",
       "Alanine                           Gelatins, dry powder, unsweetened\n",
       "Arginine                               Seeds, sesame flour, low-fat\n",
       "Aspartic acid                                   Soy protein isolate\n",
       "Cystine                Seeds, cottonseed flour, low fat (glandless)\n",
       "Glutamic acid                                   Soy protein isolate\n",
       "Glycine                           Gelatins, dry powder, unsweetened\n",
       "Histidine                Whale, beluga, meat, dried (Alaska Native)\n",
       "Hydroxyproline    KENTUCKY FRIED CHICKEN, Fried Chicken, ORIGINA...\n",
       "Isoleucine        Soy protein isolate, PROTEIN TECHNOLOGIES INTE...\n",
       "Leucine           Soy protein isolate, PROTEIN TECHNOLOGIES INTE...\n",
       "Lysine            Seal, bearded (Oogruk), meat, dried (Alaska Na...\n",
       "Methionine                    Fish, cod, Atlantic, dried and salted\n",
       "Phenylalanine     Soy protein isolate, PROTEIN TECHNOLOGIES INTE...\n",
       "Proline                           Gelatins, dry powder, unsweetened\n",
       "Serine            Soy protein isolate, PROTEIN TECHNOLOGIES INTE...\n",
       "Threonine         Soy protein isolate, PROTEIN TECHNOLOGIES INTE...\n",
       "Tryptophan         Sea lion, Steller, meat with fat (Alaska Native)\n",
       "Tyrosine          Soy protein isolate, PROTEIN TECHNOLOGIES INTE...\n",
       "Valine            Soy protein isolate, PROTEIN TECHNOLOGIES INTE...\n",
       "Name: food, dtype: object"
      ]
     },
     "execution_count": 45,
     "metadata": {},
     "output_type": "execute_result"
    }
   ],
   "source": [
    "max_foods.loc['Amino Acids']['food']"
   ]
  },
  {
   "cell_type": "code",
   "execution_count": null,
   "metadata": {},
   "outputs": [],
   "source": []
  }
 ],
 "metadata": {
  "kernelspec": {
   "display_name": "Python 3",
   "language": "python",
   "name": "python3"
  },
  "language_info": {
   "codemirror_mode": {
    "name": "ipython",
    "version": 3
   },
   "file_extension": ".py",
   "mimetype": "text/x-python",
   "name": "python",
   "nbconvert_exporter": "python",
   "pygments_lexer": "ipython3",
   "version": "3.6.1"
  }
 },
 "nbformat": 4,
 "nbformat_minor": 2
}
