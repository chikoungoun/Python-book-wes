{
 "cells": [
  {
   "cell_type": "code",
   "execution_count": 1,
   "metadata": {},
   "outputs": [],
   "source": [
    "import pandas as pd\n",
    "import numpy as np\n",
    "import matplotlib.pyplot as plt\n",
    "%matplotlib inline"
   ]
  },
  {
   "cell_type": "markdown",
   "metadata": {},
   "source": [
    "# 14.5 Federal Election Commission Datanase"
   ]
  },
  {
   "cell_type": "code",
   "execution_count": 5,
   "metadata": {},
   "outputs": [
    {
     "name": "stderr",
     "output_type": "stream",
     "text": [
      "c:\\users\\marwane\\appdata\\local\\programs\\python\\python36-32\\lib\\site-packages\\IPython\\core\\interactiveshell.py:2728: DtypeWarning: Columns (6) have mixed types. Specify dtype option on import or set low_memory=False.\n",
      "  interactivity=interactivity, compiler=compiler, result=result)\n"
     ]
    }
   ],
   "source": [
    "fec = pd.read_csv('Datasets/Wesm/fec/p01-all.csv')"
   ]
  },
  {
   "cell_type": "code",
   "execution_count": 6,
   "metadata": {},
   "outputs": [
    {
     "name": "stdout",
     "output_type": "stream",
     "text": [
      "<class 'pandas.core.frame.DataFrame'>\n",
      "RangeIndex: 348180 entries, 0 to 348179\n",
      "Data columns (total 16 columns):\n",
      "cmte_id              348180 non-null object\n",
      "cand_id              348180 non-null object\n",
      "cand_nm              348180 non-null object\n",
      "contbr_nm            348180 non-null object\n",
      "contbr_city          348177 non-null object\n",
      "contbr_st            348180 non-null object\n",
      "contbr_zip           348136 non-null object\n",
      "contbr_employer      345217 non-null object\n",
      "contbr_occupation    345195 non-null object\n",
      "contb_receipt_amt    348180 non-null float64\n",
      "contb_receipt_dt     348180 non-null object\n",
      "receipt_desc         5917 non-null object\n",
      "memo_cd              39916 non-null object\n",
      "memo_text            42865 non-null object\n",
      "form_tp              348180 non-null object\n",
      "file_num             348180 non-null int64\n",
      "dtypes: float64(1), int64(1), object(14)\n",
      "memory usage: 23.9+ MB\n"
     ]
    }
   ],
   "source": [
    "fec.info()"
   ]
  },
  {
   "cell_type": "code",
   "execution_count": 7,
   "metadata": {},
   "outputs": [
    {
     "data": {
      "text/plain": [
       "cmte_id                          C00431171\n",
       "cand_id                          P80003353\n",
       "cand_nm                       Romney, Mitt\n",
       "contbr_nm                 BERWANGER, ADELE\n",
       "contbr_city                  NEWPORT BEACH\n",
       "contbr_st                               CA\n",
       "contbr_zip                           92662\n",
       "contbr_employer      CANTERBURY CONSULTING\n",
       "contbr_occupation    INVESTMENT CONSULTANT\n",
       "contb_receipt_amt                     1000\n",
       "contb_receipt_dt                 31-DEC-11\n",
       "receipt_desc                           NaN\n",
       "memo_cd                                NaN\n",
       "memo_text                              NaN\n",
       "form_tp                              SA17A\n",
       "file_num                            771927\n",
       "Name: 12345, dtype: object"
      ]
     },
     "execution_count": 7,
     "metadata": {},
     "output_type": "execute_result"
    }
   ],
   "source": [
    "fec.iloc[12345]"
   ]
  },
  {
   "cell_type": "code",
   "execution_count": 8,
   "metadata": {},
   "outputs": [],
   "source": [
    "#les candidats uniques"
   ]
  },
  {
   "cell_type": "code",
   "execution_count": 9,
   "metadata": {},
   "outputs": [],
   "source": [
    "unique_cands = fec.cand_nm.unique()"
   ]
  },
  {
   "cell_type": "code",
   "execution_count": 10,
   "metadata": {},
   "outputs": [
    {
     "data": {
      "text/plain": [
       "array(['Bachmann, Michelle', 'Romney, Mitt', 'Obama, Barack'], dtype=object)"
      ]
     },
     "execution_count": 10,
     "metadata": {},
     "output_type": "execute_result"
    }
   ],
   "source": [
    "unique_cands"
   ]
  },
  {
   "cell_type": "code",
   "execution_count": 11,
   "metadata": {},
   "outputs": [
    {
     "data": {
      "text/plain": [
       "' Probleme : Dataset trop grand'"
      ]
     },
     "execution_count": 11,
     "metadata": {},
     "output_type": "execute_result"
    }
   ],
   "source": [
    "\"\"\" Probleme : Dataset trop grand\"\"\""
   ]
  },
  {
   "cell_type": "code",
   "execution_count": null,
   "metadata": {},
   "outputs": [],
   "source": []
  }
 ],
 "metadata": {
  "kernelspec": {
   "display_name": "Python 3",
   "language": "python",
   "name": "python3"
  },
  "language_info": {
   "codemirror_mode": {
    "name": "ipython",
    "version": 3
   },
   "file_extension": ".py",
   "mimetype": "text/x-python",
   "name": "python",
   "nbconvert_exporter": "python",
   "pygments_lexer": "ipython3",
   "version": "3.6.1"
  }
 },
 "nbformat": 4,
 "nbformat_minor": 2
}
